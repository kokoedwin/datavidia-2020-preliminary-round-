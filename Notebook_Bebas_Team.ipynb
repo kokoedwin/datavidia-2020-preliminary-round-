{
 "cells": [
  {
   "cell_type": "markdown",
   "metadata": {
    "colab_type": "text",
    "id": "Mvw7lud8W_tf"
   },
   "source": [
    "# Datavidia 2019\n",
    "## By: Tim BEBAS - University of Indonesia\n",
    "### 1. Muhammad Ridho Ananda(Captain) - mridho2828@gmail.com\n",
    "### 2. Jonathan Edwin - edwin.jon28@gmail.com\n",
    "### 3. Lulu Ilmaknun Qurotaini - lulu.ilmaknun.q@gmail.com"
   ]
  },
  {
   "cell_type": "markdown",
   "metadata": {
    "colab_type": "text",
    "id": "B0cmyYmq0rEX"
   },
   "source": [
    "# CRISP - DM\n",
    "\n",
    "Dalam melakukan pengerjaan lomba ini, kami menggunakan proses bernama `Cross-Industry Standard Process Model for Data Mining` atau yang sering disingkat sebagai `CRISP-DM`. `CRISP-DM` adalah suatu metodologi yang sudah digunakan secara umum untuk melakukan penambangan data. Metodologi tersebut terbagi menjadi enam tahap, yaitu:\n",
    "    \n",
    "    - Business Understanding\n",
    "    - Data Understanding\n",
    "    - Data Preparation\n",
    "    - Modeling\n",
    "    - Evaluation\n",
    "    - Deployment"
   ]
  },
  {
   "cell_type": "markdown",
   "metadata": {
    "colab_type": "text",
    "id": "y8AnYpyX1krB"
   },
   "source": [
    "![Diagram CRISP-DM](https://drive.google.com/uc?id=1QQz-M2iYNlwFnION6hI5IT-i_haqnlro)\n",
    "\n",
    "Image 1. Diagram CRISP-DM [1]\n",
    "\n",
    "\n",
    "\n",
    "\n",
    "\n"
   ]
  },
  {
   "cell_type": "markdown",
   "metadata": {
    "colab_type": "text",
    "id": "ZMe1i6aKXKOj"
   },
   "source": [
    "# 1. Understand the Problem (Business and Data)"
   ]
  },
  {
   "cell_type": "markdown",
   "metadata": {
    "colab_type": "text",
    "id": "-TQ2QC3oyzJd"
   },
   "source": [
    "## A. Understand the Business"
   ]
  },
  {
   "cell_type": "markdown",
   "metadata": {
    "colab_type": "text",
    "id": "PAhZInj4XMEd"
   },
   "source": [
    "In this section, we strive to understand all initial information from a business perspective. There are some things we know are, the data comes from one of the largest ticketing companies in Indonesia. In this competition, we were asked to make a model that can predict whether a customer will make a hotel booking together with buying plane tickets or what is referred to as cross selling.\n",
    "\n",
    "Cross Selling is a sales practice by involving promotion of additional products so that consumers buy the initial product and the additional product. For this case, the initial product is a plane ticket and the additional product is a hotel booking. So from here we can make the `problem statement` as follows:\n",
    "\n",
    "`Problem Statement`: Prediction 'whether in a flight ticket purchase transaction a hotel booking (cross sell) occurs'\n",
    "\n",
    "By doing this prediction, the company can find out customers who might cross sell so that they can provide the appropriate hotel booking ad so that the person crosses and the company can increase revenue."
   ]
  },
  {
   "cell_type": "markdown",
   "metadata": {
    "colab_type": "text",
    "id": "7mLi-UVay4E1"
   },
   "source": [
    "## B. Understand the Data"
   ]
  },
  {
   "cell_type": "markdown",
   "metadata": {
    "colab_type": "text",
    "id": "RgeVUvAf3gW8"
   },
   "source": [
    "The Understand the Data phase starts with us trying to find out what data we have and what the quality is like. Data on the reality in the field most often has poor quality, it could be due to many missing values, or even invalid so that we cannot trust the data. So in this phase, it is an important phase to find out the data used\n",
    "\n",
    "The following data will be used:\n",
    "\n",
    "- flight.csv - Training data containing various flight transactions and their attributes\n",
    "- test.csv - Test data that contains flight transactions that must be predicted whether cross sell or not\n",
    "- hotel.csv - Contains hotel data and attributes\n",
    "- Data Dictionary.pdf - Contains the meanings of variables from each data\n",
    "- sample_submission.csv - Contains submission format to Kaggle"
   ]
  },
  {
   "cell_type": "markdown",
   "metadata": {
    "colab_type": "text",
    "id": "pvGaM6943lNv"
   },
   "source": [
    "### Import Library"
   ]
  },
  {
   "cell_type": "code",
   "execution_count": 1,
   "metadata": {
    "colab": {},
    "colab_type": "code",
    "id": "7xs2RmWvzBmJ"
   },
   "outputs": [],
   "source": [
    "import pandas as pd\n",
    "import matplotlib.pyplot as plt\n",
    "import seaborn as sns\n",
    "import numpy as np\n",
    "from math import sqrt\n",
    "from sklearn.model_selection import train_test_split, KFold, cross_validate, cross_val_predict\n",
    "from sklearn.utils import class_weight\n",
    "from sklearn.preprocessing import OneHotEncoder, LabelEncoder, MinMaxScaler\n",
    "from sklearn.ensemble import RandomForestClassifier, AdaBoostClassifier, VotingClassifier, BaggingClassifier, ExtraTreesClassifier\n",
    "from sklearn.svm import SVC\n",
    "from sklearn.metrics import classification_report, confusion_matrix, roc_auc_score\n",
    "from sklearn.metrics import make_scorer, accuracy_score, precision_score, recall_score, f1_score\n",
    "from sklearn.linear_model import LogisticRegression\n",
    "from sklearn.neighbors import KNeighborsClassifier\n",
    "from sklearn.pipeline import Pipeline\n",
    "from sklearn.decomposition import PCA\n",
    "import xgboost as xgb\n",
    "from sklearn.naive_bayes import GaussianNB\n",
    "from sklearn.model_selection import GridSearchCV"
   ]
  },
  {
   "cell_type": "markdown",
   "metadata": {
    "colab_type": "text",
    "id": "FlqzvYGc3oxA"
   },
   "source": [
    "### Import Files"
   ]
  },
  {
   "cell_type": "code",
   "execution_count": 2,
   "metadata": {
    "colab": {},
    "colab_type": "code",
    "id": "OpxBBsJd3pEh"
   },
   "outputs": [
    {
     "name": "stdout",
     "output_type": "stream",
     "text": [
      "['/kaggle/input/datavidia2019/hotel.csv', '/kaggle/input/datavidia2019/sample_submission.csv', '/kaggle/input/datavidia2019/flight.csv', '/kaggle/input/datavidia2019/test.csv', '/kaggle/input/datavidia2019/Data Dictionary.pdf']\n"
     ]
    }
   ],
   "source": [
    "import os\n",
    "listA =[]\n",
    "for dirname, _, filenames in os.walk('/kaggle/input'):\n",
    "    for filename in filenames:\n",
    "        listA.append(os.path.join(dirname, filename))\n",
    "\n",
    "print(listA)\n",
    "\n",
    "flight = pd.read_csv(\"/kaggle/input/datavidia2019/flight.csv\")\n",
    "hotel = pd.read_csv(\"/kaggle/input/datavidia2019/hotel.csv\")\n",
    "test = pd.read_csv(\"/kaggle/input/datavidia2019/test.csv\")\n",
    "ss = pd.read_csv(\"/kaggle/input/datavidia2019/sample_submission.csv\")"
   ]
  },
  {
   "cell_type": "markdown",
   "metadata": {
    "colab_type": "text",
    "id": "mj5D-uN14Grw"
   },
   "source": [
    "### Info for every Dataset"
   ]
  },
  {
   "cell_type": "code",
   "execution_count": 3,
   "metadata": {
    "colab": {},
    "colab_type": "code",
    "id": "PfWwQrrE4G35"
   },
   "outputs": [
    {
     "name": "stdout",
     "output_type": "stream",
     "text": [
      "<class 'pandas.core.frame.DataFrame'>\n",
      "RangeIndex: 117946 entries, 0 to 117945\n",
      "Data columns (total 14 columns):\n",
      "account_id              117946 non-null object\n",
      "order_id                117946 non-null object\n",
      "member_duration_days    117946 non-null float64\n",
      "gender                  117946 non-null object\n",
      "trip                    117946 non-null object\n",
      "service_class           117946 non-null object\n",
      "price                   117946 non-null float64\n",
      "is_tx_promo             117946 non-null object\n",
      "no_of_seats             117946 non-null float64\n",
      "airlines_name           117946 non-null object\n",
      "route                   117946 non-null object\n",
      "hotel_id                117946 non-null object\n",
      "visited_city            117946 non-null object\n",
      "log_transaction         117946 non-null object\n",
      "dtypes: float64(3), object(11)\n",
      "memory usage: 12.6+ MB\n"
     ]
    }
   ],
   "source": [
    "flight.info()"
   ]
  },
  {
   "cell_type": "code",
   "execution_count": 4,
   "metadata": {
    "colab": {},
    "colab_type": "code",
    "id": "ZfiKsY244Ish"
   },
   "outputs": [
    {
     "name": "stdout",
     "output_type": "stream",
     "text": [
      "<class 'pandas.core.frame.DataFrame'>\n",
      "RangeIndex: 2962 entries, 0 to 2961\n",
      "Data columns (total 6 columns):\n",
      "hotel_id          2962 non-null object\n",
      "starRating        2962 non-null float64\n",
      "city              2962 non-null object\n",
      "free_wifi         2962 non-null object\n",
      "pool_access       2962 non-null object\n",
      "free_breakfast    2962 non-null object\n",
      "dtypes: float64(1), object(5)\n",
      "memory usage: 139.0+ KB\n"
     ]
    }
   ],
   "source": [
    "hotel.info()"
   ]
  },
  {
   "cell_type": "code",
   "execution_count": 5,
   "metadata": {
    "colab": {},
    "colab_type": "code",
    "id": "fEHPJDYc4I2W"
   },
   "outputs": [
    {
     "name": "stdout",
     "output_type": "stream",
     "text": [
      "<class 'pandas.core.frame.DataFrame'>\n",
      "RangeIndex: 10000 entries, 0 to 9999\n",
      "Data columns (total 13 columns):\n",
      "account_id              10000 non-null object\n",
      "order_id                10000 non-null object\n",
      "member_duration_days    10000 non-null int64\n",
      "gender                  10000 non-null object\n",
      "trip                    10000 non-null object\n",
      "service_class           10000 non-null object\n",
      "price                   10000 non-null float64\n",
      "is_tx_promo             10000 non-null object\n",
      "no_of_seats             10000 non-null int64\n",
      "airlines_name           10000 non-null object\n",
      "route                   10000 non-null object\n",
      "visited_city            10000 non-null object\n",
      "log_transaction         10000 non-null object\n",
      "dtypes: float64(1), int64(2), object(10)\n",
      "memory usage: 1015.8+ KB\n"
     ]
    }
   ],
   "source": [
    "test.info()"
   ]
  },
  {
   "cell_type": "code",
   "execution_count": 6,
   "metadata": {
    "colab": {},
    "colab_type": "code",
    "id": "q3Qc08t84I-m"
   },
   "outputs": [
    {
     "name": "stdout",
     "output_type": "stream",
     "text": [
      "<class 'pandas.core.frame.DataFrame'>\n",
      "RangeIndex: 10000 entries, 0 to 9999\n",
      "Data columns (total 2 columns):\n",
      "order_id         10000 non-null object\n",
      "is_cross_sell    10000 non-null object\n",
      "dtypes: object(2)\n",
      "memory usage: 156.4+ KB\n"
     ]
    }
   ],
   "source": [
    "ss.info()"
   ]
  },
  {
   "cell_type": "markdown",
   "metadata": {
    "colab_type": "text",
    "id": "ylrs92OM61o0"
   },
   "source": [
    "### Check Top 5 of the Dataset"
   ]
  },
  {
   "cell_type": "code",
   "execution_count": 7,
   "metadata": {
    "colab": {},
    "colab_type": "code",
    "id": "pGzqL11Z61zF"
   },
   "outputs": [
    {
     "data": {
      "text/html": [
       "<div>\n",
       "<style scoped>\n",
       "    .dataframe tbody tr th:only-of-type {\n",
       "        vertical-align: middle;\n",
       "    }\n",
       "\n",
       "    .dataframe tbody tr th {\n",
       "        vertical-align: top;\n",
       "    }\n",
       "\n",
       "    .dataframe thead th {\n",
       "        text-align: right;\n",
       "    }\n",
       "</style>\n",
       "<table border=\"1\" class=\"dataframe\">\n",
       "  <thead>\n",
       "    <tr style=\"text-align: right;\">\n",
       "      <th></th>\n",
       "      <th>account_id</th>\n",
       "      <th>order_id</th>\n",
       "      <th>member_duration_days</th>\n",
       "      <th>gender</th>\n",
       "      <th>trip</th>\n",
       "      <th>service_class</th>\n",
       "      <th>price</th>\n",
       "      <th>is_tx_promo</th>\n",
       "      <th>no_of_seats</th>\n",
       "      <th>airlines_name</th>\n",
       "      <th>route</th>\n",
       "      <th>hotel_id</th>\n",
       "      <th>visited_city</th>\n",
       "      <th>log_transaction</th>\n",
       "    </tr>\n",
       "  </thead>\n",
       "  <tbody>\n",
       "    <tr>\n",
       "      <th>0</th>\n",
       "      <td>912aa410a02cd7e1bab414214a7005c0</td>\n",
       "      <td>5c6f39c690f23650d3cde28e5b51c908</td>\n",
       "      <td>566.0</td>\n",
       "      <td>M</td>\n",
       "      <td>trip</td>\n",
       "      <td>ECONOMY</td>\n",
       "      <td>885898.00</td>\n",
       "      <td>NO</td>\n",
       "      <td>1.0</td>\n",
       "      <td>33199710eb822fbcfd0dc793f4788d30</td>\n",
       "      <td>CGK - DPS</td>\n",
       "      <td>None</td>\n",
       "      <td>'['Semarang', 'Jakarta', 'Medan', 'Bali']'</td>\n",
       "      <td>'[545203.03, 918492.11, 1774241.4, 885898.0]'</td>\n",
       "    </tr>\n",
       "    <tr>\n",
       "      <th>1</th>\n",
       "      <td>d64a90a618202a5e8b25d8539377f3ca</td>\n",
       "      <td>5cbef2b87f51c18bf399d11bfe495a46</td>\n",
       "      <td>607.0</td>\n",
       "      <td>M</td>\n",
       "      <td>trip</td>\n",
       "      <td>ECONOMY</td>\n",
       "      <td>2139751.25</td>\n",
       "      <td>NO</td>\n",
       "      <td>2.0</td>\n",
       "      <td>0a102015e48c1f68e121acc99fca9a05</td>\n",
       "      <td>CGK - DPS</td>\n",
       "      <td>None</td>\n",
       "      <td>'['Jakarta', 'Medan', 'Bali']'</td>\n",
       "      <td>'[555476.36, 2422826.84, 7398697.64, 7930866.8...</td>\n",
       "    </tr>\n",
       "    <tr>\n",
       "      <th>2</th>\n",
       "      <td>1a42ac02bcb4a902973123323f84da55</td>\n",
       "      <td>38fc35a1e62384012a358ab1fbd5ad03</td>\n",
       "      <td>648.0</td>\n",
       "      <td>F</td>\n",
       "      <td>trip</td>\n",
       "      <td>ECONOMY</td>\n",
       "      <td>2695550.00</td>\n",
       "      <td>NO</td>\n",
       "      <td>1.0</td>\n",
       "      <td>0a102015e48c1f68e121acc99fca9a05</td>\n",
       "      <td>CGK - DPS</td>\n",
       "      <td>None</td>\n",
       "      <td>'['Semarang', 'Jakarta', 'Medan', 'Bali']'</td>\n",
       "      <td>'[7328957.45, 7027662.34, 1933360.88, 3461836....</td>\n",
       "    </tr>\n",
       "    <tr>\n",
       "      <th>3</th>\n",
       "      <td>92cddd64d4be4dec6dfbcc0c50e902f4</td>\n",
       "      <td>c7f54cb748828b4413e02dea2758faf6</td>\n",
       "      <td>418.0</td>\n",
       "      <td>F</td>\n",
       "      <td>trip</td>\n",
       "      <td>ECONOMY</td>\n",
       "      <td>1146665.00</td>\n",
       "      <td>NO</td>\n",
       "      <td>1.0</td>\n",
       "      <td>0a102015e48c1f68e121acc99fca9a05</td>\n",
       "      <td>CGK - DPS</td>\n",
       "      <td>None</td>\n",
       "      <td>'['Jogjakarta', 'Bali', 'Jakarta', 'Medan']'</td>\n",
       "      <td>'[5243631.69, 2474344.48, 1146665.0]'</td>\n",
       "    </tr>\n",
       "    <tr>\n",
       "      <th>4</th>\n",
       "      <td>bf637abc47ea93bad22264f4956d67f6</td>\n",
       "      <td>dec228e4d2b6023c9f1fe9cfe9c451bf</td>\n",
       "      <td>537.0</td>\n",
       "      <td>F</td>\n",
       "      <td>trip</td>\n",
       "      <td>ECONOMY</td>\n",
       "      <td>1131032.50</td>\n",
       "      <td>NO</td>\n",
       "      <td>1.0</td>\n",
       "      <td>6c483c0812c96f8ec43bb0ff76eaf716</td>\n",
       "      <td>CGK - DPS</td>\n",
       "      <td>None</td>\n",
       "      <td>'['Jakarta', 'Bali', 'Medan', 'Jogjakarta', 'S...</td>\n",
       "      <td>'[9808972.98, 9628619.79, 6712680.0, 5034510.0...</td>\n",
       "    </tr>\n",
       "  </tbody>\n",
       "</table>\n",
       "</div>"
      ],
      "text/plain": [
       "                         account_id                          order_id  \\\n",
       "0  912aa410a02cd7e1bab414214a7005c0  5c6f39c690f23650d3cde28e5b51c908   \n",
       "1  d64a90a618202a5e8b25d8539377f3ca  5cbef2b87f51c18bf399d11bfe495a46   \n",
       "2  1a42ac02bcb4a902973123323f84da55  38fc35a1e62384012a358ab1fbd5ad03   \n",
       "3  92cddd64d4be4dec6dfbcc0c50e902f4  c7f54cb748828b4413e02dea2758faf6   \n",
       "4  bf637abc47ea93bad22264f4956d67f6  dec228e4d2b6023c9f1fe9cfe9c451bf   \n",
       "\n",
       "   member_duration_days gender  trip service_class       price is_tx_promo  \\\n",
       "0                 566.0      M  trip       ECONOMY   885898.00          NO   \n",
       "1                 607.0      M  trip       ECONOMY  2139751.25          NO   \n",
       "2                 648.0      F  trip       ECONOMY  2695550.00          NO   \n",
       "3                 418.0      F  trip       ECONOMY  1146665.00          NO   \n",
       "4                 537.0      F  trip       ECONOMY  1131032.50          NO   \n",
       "\n",
       "   no_of_seats                     airlines_name      route hotel_id  \\\n",
       "0          1.0  33199710eb822fbcfd0dc793f4788d30  CGK - DPS     None   \n",
       "1          2.0  0a102015e48c1f68e121acc99fca9a05  CGK - DPS     None   \n",
       "2          1.0  0a102015e48c1f68e121acc99fca9a05  CGK - DPS     None   \n",
       "3          1.0  0a102015e48c1f68e121acc99fca9a05  CGK - DPS     None   \n",
       "4          1.0  6c483c0812c96f8ec43bb0ff76eaf716  CGK - DPS     None   \n",
       "\n",
       "                                        visited_city  \\\n",
       "0         '['Semarang', 'Jakarta', 'Medan', 'Bali']'   \n",
       "1                     '['Jakarta', 'Medan', 'Bali']'   \n",
       "2         '['Semarang', 'Jakarta', 'Medan', 'Bali']'   \n",
       "3       '['Jogjakarta', 'Bali', 'Jakarta', 'Medan']'   \n",
       "4  '['Jakarta', 'Bali', 'Medan', 'Jogjakarta', 'S...   \n",
       "\n",
       "                                     log_transaction  \n",
       "0      '[545203.03, 918492.11, 1774241.4, 885898.0]'  \n",
       "1  '[555476.36, 2422826.84, 7398697.64, 7930866.8...  \n",
       "2  '[7328957.45, 7027662.34, 1933360.88, 3461836....  \n",
       "3              '[5243631.69, 2474344.48, 1146665.0]'  \n",
       "4  '[9808972.98, 9628619.79, 6712680.0, 5034510.0...  "
      ]
     },
     "execution_count": 7,
     "metadata": {},
     "output_type": "execute_result"
    }
   ],
   "source": [
    "flight.head()"
   ]
  },
  {
   "cell_type": "code",
   "execution_count": 8,
   "metadata": {
    "colab": {},
    "colab_type": "code",
    "id": "vU7KJElt618B"
   },
   "outputs": [
    {
     "data": {
      "text/html": [
       "<div>\n",
       "<style scoped>\n",
       "    .dataframe tbody tr th:only-of-type {\n",
       "        vertical-align: middle;\n",
       "    }\n",
       "\n",
       "    .dataframe tbody tr th {\n",
       "        vertical-align: top;\n",
       "    }\n",
       "\n",
       "    .dataframe thead th {\n",
       "        text-align: right;\n",
       "    }\n",
       "</style>\n",
       "<table border=\"1\" class=\"dataframe\">\n",
       "  <thead>\n",
       "    <tr style=\"text-align: right;\">\n",
       "      <th></th>\n",
       "      <th>hotel_id</th>\n",
       "      <th>starRating</th>\n",
       "      <th>city</th>\n",
       "      <th>free_wifi</th>\n",
       "      <th>pool_access</th>\n",
       "      <th>free_breakfast</th>\n",
       "    </tr>\n",
       "  </thead>\n",
       "  <tbody>\n",
       "    <tr>\n",
       "      <th>0</th>\n",
       "      <td>e2733e84102226acf6b53bffd2e60cf8</td>\n",
       "      <td>0.0</td>\n",
       "      <td>bali</td>\n",
       "      <td>YES</td>\n",
       "      <td>NO</td>\n",
       "      <td>NO</td>\n",
       "    </tr>\n",
       "    <tr>\n",
       "      <th>1</th>\n",
       "      <td>9f9de5df06d64ada1026e930687a87e4</td>\n",
       "      <td>0.0</td>\n",
       "      <td>bali</td>\n",
       "      <td>YES</td>\n",
       "      <td>NO</td>\n",
       "      <td>NO</td>\n",
       "    </tr>\n",
       "    <tr>\n",
       "      <th>2</th>\n",
       "      <td>3cf6774fb4dc331bb49e7a959b74a67e</td>\n",
       "      <td>0.0</td>\n",
       "      <td>bali</td>\n",
       "      <td>YES</td>\n",
       "      <td>NO</td>\n",
       "      <td>NO</td>\n",
       "    </tr>\n",
       "    <tr>\n",
       "      <th>3</th>\n",
       "      <td>eca261898220478834072b0c753a5229</td>\n",
       "      <td>0.0</td>\n",
       "      <td>bali</td>\n",
       "      <td>YES</td>\n",
       "      <td>NO</td>\n",
       "      <td>NO</td>\n",
       "    </tr>\n",
       "    <tr>\n",
       "      <th>4</th>\n",
       "      <td>c21f400013fa4f244a7168a3c155b8b5</td>\n",
       "      <td>0.0</td>\n",
       "      <td>bali</td>\n",
       "      <td>YES</td>\n",
       "      <td>NO</td>\n",
       "      <td>NO</td>\n",
       "    </tr>\n",
       "  </tbody>\n",
       "</table>\n",
       "</div>"
      ],
      "text/plain": [
       "                           hotel_id  starRating  city free_wifi pool_access  \\\n",
       "0  e2733e84102226acf6b53bffd2e60cf8         0.0  bali       YES          NO   \n",
       "1  9f9de5df06d64ada1026e930687a87e4         0.0  bali       YES          NO   \n",
       "2  3cf6774fb4dc331bb49e7a959b74a67e         0.0  bali       YES          NO   \n",
       "3  eca261898220478834072b0c753a5229         0.0  bali       YES          NO   \n",
       "4  c21f400013fa4f244a7168a3c155b8b5         0.0  bali       YES          NO   \n",
       "\n",
       "  free_breakfast  \n",
       "0             NO  \n",
       "1             NO  \n",
       "2             NO  \n",
       "3             NO  \n",
       "4             NO  "
      ]
     },
     "execution_count": 8,
     "metadata": {},
     "output_type": "execute_result"
    }
   ],
   "source": [
    "hotel.head()"
   ]
  },
  {
   "cell_type": "code",
   "execution_count": 9,
   "metadata": {
    "colab": {},
    "colab_type": "code",
    "id": "XvjY6cd962H7"
   },
   "outputs": [
    {
     "data": {
      "text/html": [
       "<div>\n",
       "<style scoped>\n",
       "    .dataframe tbody tr th:only-of-type {\n",
       "        vertical-align: middle;\n",
       "    }\n",
       "\n",
       "    .dataframe tbody tr th {\n",
       "        vertical-align: top;\n",
       "    }\n",
       "\n",
       "    .dataframe thead th {\n",
       "        text-align: right;\n",
       "    }\n",
       "</style>\n",
       "<table border=\"1\" class=\"dataframe\">\n",
       "  <thead>\n",
       "    <tr style=\"text-align: right;\">\n",
       "      <th></th>\n",
       "      <th>account_id</th>\n",
       "      <th>order_id</th>\n",
       "      <th>member_duration_days</th>\n",
       "      <th>gender</th>\n",
       "      <th>trip</th>\n",
       "      <th>service_class</th>\n",
       "      <th>price</th>\n",
       "      <th>is_tx_promo</th>\n",
       "      <th>no_of_seats</th>\n",
       "      <th>airlines_name</th>\n",
       "      <th>route</th>\n",
       "      <th>visited_city</th>\n",
       "      <th>log_transaction</th>\n",
       "    </tr>\n",
       "  </thead>\n",
       "  <tbody>\n",
       "    <tr>\n",
       "      <th>0</th>\n",
       "      <td>89a5fadd4d596610ff56044b9a0b1f4f</td>\n",
       "      <td>5ca64fd80a069208e3c0aa05dd580fb8</td>\n",
       "      <td>1754</td>\n",
       "      <td>M</td>\n",
       "      <td>trip</td>\n",
       "      <td>ECONOMY</td>\n",
       "      <td>3143400.00</td>\n",
       "      <td>YES</td>\n",
       "      <td>3</td>\n",
       "      <td>e35de6a36d385711a660c72c0286154a</td>\n",
       "      <td>CGK - DPS</td>\n",
       "      <td>'['Bali', 'Jakarta', 'Medan']'</td>\n",
       "      <td>'[568508.04, 245284.05, 748834.2, 7930226.7, 6...</td>\n",
       "    </tr>\n",
       "    <tr>\n",
       "      <th>1</th>\n",
       "      <td>86b28323bec6d938d47cee887e509b28</td>\n",
       "      <td>aca60904549a8a5958fe7a642efcb534</td>\n",
       "      <td>1084</td>\n",
       "      <td>F</td>\n",
       "      <td>trip</td>\n",
       "      <td>ECONOMY</td>\n",
       "      <td>2166607.04</td>\n",
       "      <td>NO</td>\n",
       "      <td>2</td>\n",
       "      <td>e35de6a36d385711a660c72c0286154a</td>\n",
       "      <td>CGK - DPS</td>\n",
       "      <td>'['Medan', 'Bali', 'Jakarta']'</td>\n",
       "      <td>'[9916349.28, 7404847.79, 4697159.89, 2166607....</td>\n",
       "    </tr>\n",
       "    <tr>\n",
       "      <th>2</th>\n",
       "      <td>36ef956ac3ef963c48e67327a4b6cc78</td>\n",
       "      <td>1771011e3adec5db9f30d15b3d439711</td>\n",
       "      <td>2378</td>\n",
       "      <td>M</td>\n",
       "      <td>round</td>\n",
       "      <td>ECONOMY</td>\n",
       "      <td>1239615.00</td>\n",
       "      <td>NO</td>\n",
       "      <td>1</td>\n",
       "      <td>ad5bef60d81ea077018f4d50b813153a</td>\n",
       "      <td>CGK - DPS</td>\n",
       "      <td>'['Jakarta', 'Medan', 'Bali']'</td>\n",
       "      <td>'[249468.18, 1854801.11, 3311742.08, 4002723.4...</td>\n",
       "    </tr>\n",
       "    <tr>\n",
       "      <th>3</th>\n",
       "      <td>f7821289404d44db50eb2edd4f82ea5b</td>\n",
       "      <td>6fc1b7d590c2a8c539ce56397403194d</td>\n",
       "      <td>576</td>\n",
       "      <td>F</td>\n",
       "      <td>trip</td>\n",
       "      <td>ECONOMY</td>\n",
       "      <td>1984060.00</td>\n",
       "      <td>YES</td>\n",
       "      <td>2</td>\n",
       "      <td>33199710eb822fbcfd0dc793f4788d30</td>\n",
       "      <td>CGK - DPS</td>\n",
       "      <td>'['Jakarta', 'Bali', 'Medan', 'Jogjakarta', 'S...</td>\n",
       "      <td>'[6137034.61, 58939.21, 1984060.0]'</td>\n",
       "    </tr>\n",
       "    <tr>\n",
       "      <th>4</th>\n",
       "      <td>f62f33d1de5aabc919b69b1b5697f27a</td>\n",
       "      <td>c1f4712f60cd758e773555690d148764</td>\n",
       "      <td>862</td>\n",
       "      <td>F</td>\n",
       "      <td>trip</td>\n",
       "      <td>ECONOMY</td>\n",
       "      <td>2990624.00</td>\n",
       "      <td>YES</td>\n",
       "      <td>1</td>\n",
       "      <td>74c5549aa99d55280a896ea50068a211</td>\n",
       "      <td>CGK - DPS</td>\n",
       "      <td>'['Bali', 'Jakarta', 'Medan']'</td>\n",
       "      <td>'[9653724.83, 6417438.6, 2990624.0]'</td>\n",
       "    </tr>\n",
       "  </tbody>\n",
       "</table>\n",
       "</div>"
      ],
      "text/plain": [
       "                         account_id                          order_id  \\\n",
       "0  89a5fadd4d596610ff56044b9a0b1f4f  5ca64fd80a069208e3c0aa05dd580fb8   \n",
       "1  86b28323bec6d938d47cee887e509b28  aca60904549a8a5958fe7a642efcb534   \n",
       "2  36ef956ac3ef963c48e67327a4b6cc78  1771011e3adec5db9f30d15b3d439711   \n",
       "3  f7821289404d44db50eb2edd4f82ea5b  6fc1b7d590c2a8c539ce56397403194d   \n",
       "4  f62f33d1de5aabc919b69b1b5697f27a  c1f4712f60cd758e773555690d148764   \n",
       "\n",
       "   member_duration_days gender   trip service_class       price is_tx_promo  \\\n",
       "0                  1754      M   trip       ECONOMY  3143400.00         YES   \n",
       "1                  1084      F   trip       ECONOMY  2166607.04          NO   \n",
       "2                  2378      M  round       ECONOMY  1239615.00          NO   \n",
       "3                   576      F   trip       ECONOMY  1984060.00         YES   \n",
       "4                   862      F   trip       ECONOMY  2990624.00         YES   \n",
       "\n",
       "   no_of_seats                     airlines_name      route  \\\n",
       "0            3  e35de6a36d385711a660c72c0286154a  CGK - DPS   \n",
       "1            2  e35de6a36d385711a660c72c0286154a  CGK - DPS   \n",
       "2            1  ad5bef60d81ea077018f4d50b813153a  CGK - DPS   \n",
       "3            2  33199710eb822fbcfd0dc793f4788d30  CGK - DPS   \n",
       "4            1  74c5549aa99d55280a896ea50068a211  CGK - DPS   \n",
       "\n",
       "                                        visited_city  \\\n",
       "0                     '['Bali', 'Jakarta', 'Medan']'   \n",
       "1                     '['Medan', 'Bali', 'Jakarta']'   \n",
       "2                     '['Jakarta', 'Medan', 'Bali']'   \n",
       "3  '['Jakarta', 'Bali', 'Medan', 'Jogjakarta', 'S...   \n",
       "4                     '['Bali', 'Jakarta', 'Medan']'   \n",
       "\n",
       "                                     log_transaction  \n",
       "0  '[568508.04, 245284.05, 748834.2, 7930226.7, 6...  \n",
       "1  '[9916349.28, 7404847.79, 4697159.89, 2166607....  \n",
       "2  '[249468.18, 1854801.11, 3311742.08, 4002723.4...  \n",
       "3                '[6137034.61, 58939.21, 1984060.0]'  \n",
       "4               '[9653724.83, 6417438.6, 2990624.0]'  "
      ]
     },
     "execution_count": 9,
     "metadata": {},
     "output_type": "execute_result"
    }
   ],
   "source": [
    "test.head()"
   ]
  },
  {
   "cell_type": "code",
   "execution_count": 10,
   "metadata": {
    "colab": {},
    "colab_type": "code",
    "id": "3MOkl21Z62RB"
   },
   "outputs": [
    {
     "data": {
      "text/html": [
       "<div>\n",
       "<style scoped>\n",
       "    .dataframe tbody tr th:only-of-type {\n",
       "        vertical-align: middle;\n",
       "    }\n",
       "\n",
       "    .dataframe tbody tr th {\n",
       "        vertical-align: top;\n",
       "    }\n",
       "\n",
       "    .dataframe thead th {\n",
       "        text-align: right;\n",
       "    }\n",
       "</style>\n",
       "<table border=\"1\" class=\"dataframe\">\n",
       "  <thead>\n",
       "    <tr style=\"text-align: right;\">\n",
       "      <th></th>\n",
       "      <th>order_id</th>\n",
       "      <th>is_cross_sell</th>\n",
       "    </tr>\n",
       "  </thead>\n",
       "  <tbody>\n",
       "    <tr>\n",
       "      <th>0</th>\n",
       "      <td>5ca64fd80a069208e3c0aa05dd580fb8</td>\n",
       "      <td>yes</td>\n",
       "    </tr>\n",
       "    <tr>\n",
       "      <th>1</th>\n",
       "      <td>aca60904549a8a5958fe7a642efcb534</td>\n",
       "      <td>yes</td>\n",
       "    </tr>\n",
       "    <tr>\n",
       "      <th>2</th>\n",
       "      <td>1771011e3adec5db9f30d15b3d439711</td>\n",
       "      <td>yes</td>\n",
       "    </tr>\n",
       "    <tr>\n",
       "      <th>3</th>\n",
       "      <td>6fc1b7d590c2a8c539ce56397403194d</td>\n",
       "      <td>yes</td>\n",
       "    </tr>\n",
       "    <tr>\n",
       "      <th>4</th>\n",
       "      <td>c1f4712f60cd758e773555690d148764</td>\n",
       "      <td>yes</td>\n",
       "    </tr>\n",
       "  </tbody>\n",
       "</table>\n",
       "</div>"
      ],
      "text/plain": [
       "                           order_id is_cross_sell\n",
       "0  5ca64fd80a069208e3c0aa05dd580fb8           yes\n",
       "1  aca60904549a8a5958fe7a642efcb534           yes\n",
       "2  1771011e3adec5db9f30d15b3d439711           yes\n",
       "3  6fc1b7d590c2a8c539ce56397403194d           yes\n",
       "4  c1f4712f60cd758e773555690d148764           yes"
      ]
     },
     "execution_count": 10,
     "metadata": {},
     "output_type": "execute_result"
    }
   ],
   "source": [
    "ss.head()"
   ]
  },
  {
   "cell_type": "markdown",
   "metadata": {
    "colab_type": "text",
    "id": "N1i5iqal4QnY"
   },
   "source": [
    "### Memeriksa setiap Column dan hitung value counts"
   ]
  },
  {
   "cell_type": "code",
   "execution_count": 11,
   "metadata": {
    "colab": {},
    "colab_type": "code",
    "id": "CWxaDtsp4QyQ"
   },
   "outputs": [
    {
     "name": "stdout",
     "output_type": "stream",
     "text": [
      "d64a90a618202a5e8b25d8539377f3ca    3311\n",
      "fbb4123bb341ad85719af86930a0ccea     311\n",
      "bf637abc47ea93bad22264f4956d67f6     161\n",
      "74b423f5354172076e9529debf8866ac     145\n",
      "4944140d10e202e845f0766a3e3ac2d1     133\n",
      "                                    ... \n",
      "b2a3f138ed1fc1b1f3d2d09ea884875c       1\n",
      "56e72b9da001a8df317397939a63eb84       1\n",
      "1e71667eb45e46564984daf8333c8201       1\n",
      "c37248efa88f89e7ebe2786c601d1a19       1\n",
      "f938550df90d89d9813cf4425cdc282a       1\n",
      "Name: account_id, Length: 74796, dtype: int64\n",
      "a331fb5f9e191578a284b31c678c3ab3    1\n",
      "9a337ea8a4b44b52744b4a7bf349d104    1\n",
      "2f45c249819f55c78f4016aaeee5ffbf    1\n",
      "bcc5791dda2dc74da58e01c38c9602c6    1\n",
      "0ae9f5537e0c51bb934ca6eb96a8ad78    1\n",
      "                                   ..\n",
      "856ad429249c27f20817f5ad51046ecb    1\n",
      "b46c0c12a36e5657a0c05486dce7a34a    1\n",
      "39cc48cdcfeb833a679924d8baf4ee6a    1\n",
      "7db1ff9b4dffad4bcc2e3fc8c83757e4    1\n",
      "801d94a5e77947cf751ec4a7cd965d71    1\n",
      "Name: order_id, Length: 117946, dtype: int64\n",
      "607.0     3542\n",
      "396.0      755\n",
      "640.0      418\n",
      "391.0      408\n",
      "641.0      396\n",
      "          ... \n",
      "2594.0       1\n",
      "2657.0       1\n",
      "2619.0       1\n",
      "2600.0       1\n",
      "2479.0       1\n",
      "Name: member_duration_days, Length: 2299, dtype: int64\n",
      "M       61036\n",
      "F       56886\n",
      "None       24\n",
      "Name: gender, dtype: int64\n",
      "trip         99148\n",
      "roundtrip    13816\n",
      "round         4982\n",
      "Name: trip, dtype: int64\n",
      "ECONOMY     117665\n",
      "BUSINESS       281\n",
      "Name: service_class, dtype: int64\n",
      "1196520.00     1805\n",
      "992030.00      1582\n",
      "3297359.00     1492\n",
      "934739.00      1267\n",
      "1401010.00     1234\n",
      "               ... \n",
      "6873399.00        1\n",
      "31687838.00       1\n",
      "7921917.25        1\n",
      "5824416.00        1\n",
      "16777306.00       1\n",
      "Name: price, Length: 13724, dtype: int64\n",
      "NO     67621\n",
      "YES    50325\n",
      "Name: is_tx_promo, dtype: int64\n",
      "1.0     70937\n",
      "2.0     29561\n",
      "3.0      8236\n",
      "4.0      4963\n",
      "5.0      2092\n",
      "6.0      1165\n",
      "7.0       882\n",
      "8.0        75\n",
      "9.0        31\n",
      "10.0        3\n",
      "11.0        1\n",
      "Name: no_of_seats, dtype: int64\n",
      "6c483c0812c96f8ec43bb0ff76eaf716    36669\n",
      "33199710eb822fbcfd0dc793f4788d30    30640\n",
      "0a102015e48c1f68e121acc99fca9a05    20928\n",
      "ad5bef60d81ea077018f4d50b813153a    11890\n",
      "74c5549aa99d55280a896ea50068a211    10751\n",
      "e35de6a36d385711a660c72c0286154a     7060\n",
      "9855a1d3de1c46526dde37c5d6fb758c        6\n",
      "6872b49542519aea7ae146e23fab5c08        2\n",
      "Name: airlines_name, dtype: int64\n",
      "CGK - DPS    117946\n",
      "Name: route, dtype: int64\n",
      "None                                111198\n",
      "cd8210b5c97be3564a4cd0283dda323f       178\n",
      "8631d3e2f6a000ddbfcef3a4a547d642       107\n",
      "cb1838f895d879993c8ca9eaf729dbeb        94\n",
      "a3bc533c2761aa779605f68011ee8688        90\n",
      "                                     ...  \n",
      "d48cc861ab3e6fc4af670f785bf292da         1\n",
      "3cdf6166d1415a02add4c9ba8c32deda         1\n",
      "a2680fb2fc69810468c4a63580d38a95         1\n",
      "7699494efabba53a591914f38f238b19         1\n",
      "f233952cf524511ec44c850779e9b699         1\n",
      "Name: hotel_id, Length: 676, dtype: int64\n",
      "'['Jakarta', 'Medan', 'Bali']'                              38101\n",
      "'['Bali', 'Jakarta', 'Medan']'                              23750\n",
      "'['Jakarta', 'Bali', 'Medan', 'Jogjakarta', 'Semarang']'    19367\n",
      "'['Medan', 'Bali', 'Jakarta']'                              17327\n",
      "'['Surabaya', 'Medan', 'Bali', 'Jakarta', 'Aceh']'           6673\n",
      "'['Semarang', 'Jakarta', 'Medan', 'Bali']'                   5758\n",
      "'['Jogjakarta', 'Bali', 'Jakarta', 'Medan']'                 4044\n",
      "'['Manado', 'Medan', 'Bali', 'Jakarta']'                     2926\n",
      "Name: visited_city, dtype: int64\n",
      "'[2813040.14, 558788.92, 2943642.0, 1579389.5]'                                                1\n",
      "'[7442921.59, 1717402.01, 4474090.88, 4356932.97, 3156920.0]'                                  1\n",
      "'[8204181.44, 9407568.99, 9062176.99, 9188395.48, 8111429.29, 1304849.0]'                      1\n",
      "'[3167236.84, 2384394.38, 1367803.06, 1806779.0, 2130245.0, 1100359.0]'                        1\n",
      "'[6828835.88, 8554396.68, 1805596.0]'                                                          1\n",
      "                                                                                              ..\n",
      "'[8924730.0, 5635510.47, 8942781.69, 3405130.95, 5603323.2, 1495650.0]'                        1\n",
      "'[1447353.49, 1607697.0]'                                                                      1\n",
      "'[7254863.38, 6999680.1, 427626.53, 5860324.25, 717500.43, 1309412.0]'                         1\n",
      "'[7547008.86, 6867972.8, 1196520.0]'                                                           1\n",
      "'[2148085.95, 9081070.2, 1037237.5, 1037237.5, 1037237.5, 1037237.5, 1037237.5, 1340001.0]'    1\n",
      "Name: log_transaction, Length: 117946, dtype: int64\n"
     ]
    }
   ],
   "source": [
    "for column in flight.columns:\n",
    "    print(flight[column].value_counts())"
   ]
  },
  {
   "cell_type": "code",
   "execution_count": 12,
   "metadata": {
    "colab": {},
    "colab_type": "code",
    "id": "kqHYEWRW4Q1K"
   },
   "outputs": [
    {
     "name": "stdout",
     "output_type": "stream",
     "text": [
      "587d516b08b1849f8ad643633640cca7    1\n",
      "17d714bd810c751a0d5fe51f95b5a6c1    1\n",
      "22fa4590194c617b159ab57dd41b2566    1\n",
      "5b765dbf6068557bbc675d17c386c490    1\n",
      "664e3b0772f42654bbe2fa81301b21cd    1\n",
      "                                   ..\n",
      "a9292a003363ac3066f06a90193ef4a1    1\n",
      "e972ad06f8985d4730effa03ea18e7fe    1\n",
      "8b91749f4a1aa6b2eff4d4cccc2e88aa    1\n",
      "34d2d58b4f1b2132f2433292111964be    1\n",
      "37af0c7a43b2983e3ebf2e530c528855    1\n",
      "Name: hotel_id, Length: 2962, dtype: int64\n",
      "4.0    880\n",
      "3.0    854\n",
      "2.0    515\n",
      "1.0    321\n",
      "5.0    286\n",
      "0.0    106\n",
      "Name: starRating, dtype: int64\n",
      "bali    2962\n",
      "Name: city, dtype: int64\n",
      "YES    2947\n",
      "NO       15\n",
      "Name: free_wifi, dtype: int64\n",
      "NO     2953\n",
      "YES       9\n",
      "Name: pool_access, dtype: int64\n",
      "NO     2217\n",
      "YES     745\n",
      "Name: free_breakfast, dtype: int64\n"
     ]
    }
   ],
   "source": [
    "for column in hotel.columns:\n",
    "    print(hotel[column].value_counts())"
   ]
  },
  {
   "cell_type": "code",
   "execution_count": 13,
   "metadata": {
    "colab": {},
    "colab_type": "code",
    "id": "XCLvLgqi4Q30"
   },
   "outputs": [
    {
     "name": "stdout",
     "output_type": "stream",
     "text": [
      "d64a90a618202a5e8b25d8539377f3ca    209\n",
      "f7b64bbf8462b0d1a006af1a983c609d     26\n",
      "49aef087188299dca09278b382147b44     19\n",
      "fbb4123bb341ad85719af86930a0ccea     19\n",
      "5634d6fd8d25ce0fd43b00a26d6dc17c     19\n",
      "                                   ... \n",
      "63e5c8ab9a80c4b7a1cae1f3f1be8ff7      1\n",
      "3442ec4f2d3653f6a6f6b5ec24b02817      1\n",
      "d246b8682b83900a5f0accdbfe724fb8      1\n",
      "7a92a47aa70ba225d4bc3ca1a187dd7d      1\n",
      "449a130962f3f2dcb3c56e0aceec25c9      1\n",
      "Name: account_id, Length: 8724, dtype: int64\n",
      "4b63b1bb41e3a538e533d5f6354a2663    1\n",
      "330fa3c7a97dcad029add6c0288e91ec    1\n",
      "9cbfc9a928ffd25e59e2ad2335ea8930    1\n",
      "9f00209e9e243843509b12c684b54878    1\n",
      "0130749de135df5f16f656be55f97826    1\n",
      "                                   ..\n",
      "4d7b85d0b9beab6120dc0d2853a237d6    1\n",
      "ab79c7a54808f282c26fa181d5e5057e    1\n",
      "e302e827984805b7a7bfd31c1e28516b    1\n",
      "40716a671f60c9184edc4ad7e239c440    1\n",
      "b95b593dce8ec90ee17e3d76152e950b    1\n",
      "Name: order_id, Length: 10000, dtype: int64\n",
      "607     226\n",
      "396      92\n",
      "391      49\n",
      "395      41\n",
      "539      39\n",
      "       ... \n",
      "1709      1\n",
      "1701      1\n",
      "2195      1\n",
      "2203      1\n",
      "2173      1\n",
      "Name: member_duration_days, Length: 1866, dtype: int64\n",
      "M    5147\n",
      "F    4853\n",
      "Name: gender, dtype: int64\n",
      "trip         8399\n",
      "roundtrip    1253\n",
      "round         348\n",
      "Name: trip, dtype: int64\n",
      "ECONOMY     9970\n",
      "BUSINESS      30\n",
      "Name: service_class, dtype: int64\n",
      "1196520.00     157\n",
      "3297359.00     139\n",
      "992030.00      131\n",
      "951639.00      107\n",
      "1401010.00     100\n",
      "              ... \n",
      "5320458.00       1\n",
      "4404140.00       1\n",
      "2922348.00       1\n",
      "10004583.68      1\n",
      "3462767.75       1\n",
      "Name: price, Length: 3375, dtype: int64\n",
      "NO     5326\n",
      "YES    4674\n",
      "Name: is_tx_promo, dtype: int64\n",
      "1     5914\n",
      "2     2593\n",
      "3      717\n",
      "4      443\n",
      "5      180\n",
      "6       80\n",
      "7       64\n",
      "8        5\n",
      "9        3\n",
      "10       1\n",
      "Name: no_of_seats, dtype: int64\n",
      "6c483c0812c96f8ec43bb0ff76eaf716    3147\n",
      "33199710eb822fbcfd0dc793f4788d30    2452\n",
      "0a102015e48c1f68e121acc99fca9a05    1759\n",
      "ad5bef60d81ea077018f4d50b813153a    1115\n",
      "74c5549aa99d55280a896ea50068a211     903\n",
      "e35de6a36d385711a660c72c0286154a     624\n",
      "Name: airlines_name, dtype: int64\n",
      "CGK - DPS    10000\n",
      "Name: route, dtype: int64\n",
      "'['Jakarta', 'Medan', 'Bali']'                              3199\n",
      "'['Bali', 'Jakarta', 'Medan']'                              2051\n",
      "'['Jakarta', 'Bali', 'Medan', 'Jogjakarta', 'Semarang']'    1637\n",
      "'['Medan', 'Bali', 'Jakarta']'                              1492\n",
      "'['Surabaya', 'Medan', 'Bali', 'Jakarta', 'Aceh']'           555\n",
      "'['Semarang', 'Jakarta', 'Medan', 'Bali']'                   470\n",
      "'['Jogjakarta', 'Bali', 'Jakarta', 'Medan']'                 337\n",
      "'['Manado', 'Medan', 'Bali', 'Jakarta']'                     259\n",
      "Name: visited_city, dtype: int64\n",
      "'[8142281.47, 3297359.0]'                                                                         1\n",
      "'[2114519.78, 2539026.34, 5335814.44, 2238370.42, 6865544.22, 2124668.0, 2124668.0]'              1\n",
      "'[5319239.05, 8759701.99, 3706519.15, 7615955.13, 2804724.0]'                                     1\n",
      "'[8548128.21, 7325303.2, 7271482.47, 5682321.24, 1869478.0, 1467215.75, 1352676.0, 1674790.0]'    1\n",
      "'[2266127.86, 1425684.0]'                                                                         1\n",
      "                                                                                                 ..\n",
      "'[9831940.16, 6874314.36, 3020651.33, 8013483.07, 2187705.0, 3183960.0, 2700620.0]'               1\n",
      "'[1552411.31, 6704907.71, 8330329.7, 7529835.79, 4858148.66, 892489.0]'                           1\n",
      "'[854415.99, 7437954.03, 2115732.13, 5128107.5, 872216.86, 5009160.0]'                            1\n",
      "'[9378688.9, 7246789.3, 3022138.64, 6367920.0]'                                                   1\n",
      "'[2291046.23, 4409636.5, 4163544.62, 3890076.79, 1190098.0]'                                      1\n",
      "Name: log_transaction, Length: 10000, dtype: int64\n"
     ]
    }
   ],
   "source": [
    "for column in test.columns:\n",
    "    print(test[column].value_counts())"
   ]
  },
  {
   "cell_type": "code",
   "execution_count": 14,
   "metadata": {
    "colab": {},
    "colab_type": "code",
    "id": "O8dfkZMd4Q63"
   },
   "outputs": [
    {
     "name": "stdout",
     "output_type": "stream",
     "text": [
      "4b63b1bb41e3a538e533d5f6354a2663    1\n",
      "330fa3c7a97dcad029add6c0288e91ec    1\n",
      "9cbfc9a928ffd25e59e2ad2335ea8930    1\n",
      "9f00209e9e243843509b12c684b54878    1\n",
      "0130749de135df5f16f656be55f97826    1\n",
      "                                   ..\n",
      "4d7b85d0b9beab6120dc0d2853a237d6    1\n",
      "ab79c7a54808f282c26fa181d5e5057e    1\n",
      "e302e827984805b7a7bfd31c1e28516b    1\n",
      "40716a671f60c9184edc4ad7e239c440    1\n",
      "b95b593dce8ec90ee17e3d76152e950b    1\n",
      "Name: order_id, Length: 10000, dtype: int64\n",
      "no     5000\n",
      "yes    5000\n",
      "Name: is_cross_sell, dtype: int64\n"
     ]
    }
   ],
   "source": [
    "for column in ss.columns:\n",
    "    print(ss[column].value_counts())"
   ]
  },
  {
   "cell_type": "markdown",
   "metadata": {
    "colab_type": "text",
    "id": "A3Oz0HS94ts3"
   },
   "source": [
    "Dari bagian Data Understandinng dan Business Understanding, terdapat beberapa hal yang kami ketahui:\n",
    "\n",
    "- `Target Variable:` `is_cross_sell` Namun saat ini belum ada fitur tersebut, perlu dibuat.\n",
    "\n",
    "- `Problem Type: ` Klasifikasi Binary dengan class 'yes' dan 'no'\n",
    "\n",
    "- `Metric: ` Mean F1-Score\n",
    "\n",
    "- Tidak ada column yang memiliki missing value untuk setiap dataset\n",
    "- Data pada Train dan Test itu konsisten\n",
    "- Columns `route` hanya memiliki 1 unique value sehingga akan didrop\n",
    "- Terdapat 2 value di column `airlines_name` yang ada di Train tetapi tidak ada di Test\n",
    "- Column `account_id`, `gender`, `service_class`, ` trip` dan `is_tx_promo` memiliki value berupa string, perlu dilakukan Label Encoding\n",
    "- Column `visited_city` dan `log_transaction` masih dalam bentuk list, sehingga perlu dilakukan transformation column\n",
    "- Column `hotel_id`dapat diubah menjadi `is_cross_sell` \n",
    "- Column `gender` memiliki value bernilai `None`"
   ]
  },
  {
   "cell_type": "markdown",
   "metadata": {
    "colab_type": "text",
    "id": "mMpMPheXMcge"
   },
   "source": [
    "# 2. Data preprocessing"
   ]
  },
  {
   "cell_type": "markdown",
   "metadata": {
    "colab_type": "text",
    "id": "lBzN2DQtJImG"
   },
   "source": [
    "Proses melakukan data preprocessing adalah memastikan data tersebut sudah bersih, bisa digunakan jika ingin dimasukkan ke machine learning. Salah satu yang penting adalah membuat fitur-fitur seperti melakukan ordinal encoding terhadap column gender."
   ]
  },
  {
   "cell_type": "markdown",
   "metadata": {
    "colab_type": "text",
    "id": "F2X7fqN-JJrW"
   },
   "source": [
    "### Disclaimer\n",
    "\n",
    "Kelompok kami tidak menggunakan data yang berasal dari `hotel.csv`. Karena row tersebut akan hanya dimiliki bagi orang yang melakukan cross sell. Data tersebut tidak boleh ada di dalam training set karena akan membuat terjadi data leakage, suatu kejadian ketika data yang ada di masa depan digunakan untuk melakukan prediksi. Sehingga membuat orang menganggap memiliki performa model yang baik, namun sebenarnya tidak bisa digunakan secara umum."
   ]
  },
  {
   "cell_type": "markdown",
   "metadata": {
    "colab_type": "text",
    "id": "AfAzOFyzV6xt"
   },
   "source": [
    "## Merge data flight dan hotel"
   ]
  },
  {
   "cell_type": "code",
   "execution_count": 15,
   "metadata": {
    "colab": {},
    "colab_type": "code",
    "id": "7qoh2hFNWlIW"
   },
   "outputs": [],
   "source": [
    "# merge data flight dan hotel berdasarkan hotel id\n",
    "\n",
    "flight = flight.merge(hotel, how='left', left_on='hotel_id', right_on='hotel_id')"
   ]
  },
  {
   "cell_type": "markdown",
   "metadata": {
    "colab_type": "text",
    "id": "O52tEQTKW3Is"
   },
   "source": [
    "## Drop Column route"
   ]
  },
  {
   "cell_type": "code",
   "execution_count": 16,
   "metadata": {
    "colab": {},
    "colab_type": "code",
    "id": "PywsyDtFW9XF"
   },
   "outputs": [],
   "source": [
    "del flight['route']\n",
    "del test['route']"
   ]
  },
  {
   "cell_type": "markdown",
   "metadata": {
    "colab_type": "text",
    "id": "BtivlIUuJNv4"
   },
   "source": [
    "### Create Column `is_cross_sell`"
   ]
  },
  {
   "cell_type": "code",
   "execution_count": 17,
   "metadata": {
    "colab": {},
    "colab_type": "code",
    "id": "WyMgL4d_MjKL"
   },
   "outputs": [],
   "source": [
    "flight['is_cross_sell'] = [0 if x == 'None' else 1 for x in flight['hotel_id']]"
   ]
  },
  {
   "cell_type": "markdown",
   "metadata": {
    "colab_type": "text",
    "id": "_Vff6xdIJQnN"
   },
   "source": [
    "### Create Column `count_visited_city`"
   ]
  },
  {
   "cell_type": "code",
   "execution_count": 18,
   "metadata": {
    "colab": {},
    "colab_type": "code",
    "id": "bquk4jUcJQza"
   },
   "outputs": [],
   "source": [
    "flight['count_visited_city'] = [len(x.strip('[]').split(',')) for x in flight['visited_city']]"
   ]
  },
  {
   "cell_type": "code",
   "execution_count": 19,
   "metadata": {
    "colab": {},
    "colab_type": "code",
    "id": "PxRc3nWDJQ8-"
   },
   "outputs": [],
   "source": [
    "test['count_visited_city'] = [len(x.strip('[]').split(',')) for x in test['visited_city']]"
   ]
  },
  {
   "cell_type": "markdown",
   "metadata": {
    "colab_type": "text",
    "id": "DUcXvT3BJVxg"
   },
   "source": [
    "### CreateColumn `count_transaction`"
   ]
  },
  {
   "cell_type": "code",
   "execution_count": 20,
   "metadata": {
    "colab": {},
    "colab_type": "code",
    "id": "CrVqmwHjJV8V"
   },
   "outputs": [],
   "source": [
    "flight['count_transaction'] = [len(x.strip('[]').split(',')) for x in flight['log_transaction']]"
   ]
  },
  {
   "cell_type": "code",
   "execution_count": 21,
   "metadata": {
    "colab": {},
    "colab_type": "code",
    "id": "KMrfooSJJWEg"
   },
   "outputs": [],
   "source": [
    "test['count_transaction'] = [len(x.strip('[]').split(',')) for x in test['log_transaction']]"
   ]
  },
  {
   "cell_type": "markdown",
   "metadata": {
    "colab_type": "text",
    "id": "xmtPId6GJWZe"
   },
   "source": [
    "### Create Column `is_tx_promo_yes`"
   ]
  },
  {
   "cell_type": "code",
   "execution_count": 22,
   "metadata": {
    "colab": {},
    "colab_type": "code",
    "id": "FHXzqtijJWlR"
   },
   "outputs": [],
   "source": [
    "flight['is_tx_promo_yes'] = [0 if x == 'NO' else 1 for x in flight['is_tx_promo']]"
   ]
  },
  {
   "cell_type": "code",
   "execution_count": 23,
   "metadata": {
    "colab": {},
    "colab_type": "code",
    "id": "NolfflTSJWv-"
   },
   "outputs": [],
   "source": [
    "test['is_tx_promo_yes'] = [0 if x == 'NO' else 1 for x in test['is_tx_promo']]"
   ]
  },
  {
   "cell_type": "markdown",
   "metadata": {
    "colab_type": "text",
    "id": "NS4pQbYgJecU"
   },
   "source": [
    "### Create Column `gender_m`"
   ]
  },
  {
   "cell_type": "code",
   "execution_count": 24,
   "metadata": {
    "colab": {},
    "colab_type": "code",
    "id": "1suXjKxxJenv"
   },
   "outputs": [],
   "source": [
    "flight['gender_m'] = [0 if x == 'F' else 1 for x in flight['gender']]"
   ]
  },
  {
   "cell_type": "code",
   "execution_count": 25,
   "metadata": {
    "colab": {},
    "colab_type": "code",
    "id": "VfNeQ32_Jeys"
   },
   "outputs": [],
   "source": [
    "test['gender_m'] = [0 if x == 'F' else 1 for x in test['gender']]"
   ]
  },
  {
   "cell_type": "markdown",
   "metadata": {
    "colab_type": "text",
    "id": "sj4ogL7PJkA1"
   },
   "source": [
    "### Create Column `service_class_business`"
   ]
  },
  {
   "cell_type": "code",
   "execution_count": 26,
   "metadata": {
    "colab": {},
    "colab_type": "code",
    "id": "GCQM8FDBJkPh"
   },
   "outputs": [],
   "source": [
    "flight['service_class_business'] = [0 if x == 'ECONOMY' else 1 for x in flight['service_class']]"
   ]
  },
  {
   "cell_type": "code",
   "execution_count": 27,
   "metadata": {
    "colab": {},
    "colab_type": "code",
    "id": "uyzeHQe6JkYf"
   },
   "outputs": [],
   "source": [
    "test['service_class_business'] = [0 if x == 'ECONOMY' else 1 for x in test['service_class']]"
   ]
  },
  {
   "cell_type": "markdown",
   "metadata": {
    "colab_type": "text",
    "id": "dH5zgI74JkuP"
   },
   "source": [
    "### Create Column `trip_round`"
   ]
  },
  {
   "cell_type": "code",
   "execution_count": 28,
   "metadata": {
    "colab": {},
    "colab_type": "code",
    "id": "gR2-K319Jk6T"
   },
   "outputs": [],
   "source": [
    "def func(row):\n",
    "    if row['trip'] == 'roundtrip':\n",
    "        return 0\n",
    "    elif row['trip'] == 'trip':\n",
    "        return 1 \n",
    "    else:\n",
    "        return 2"
   ]
  },
  {
   "cell_type": "code",
   "execution_count": 29,
   "metadata": {
    "colab": {},
    "colab_type": "code",
    "id": "X399wSMNJtw3"
   },
   "outputs": [],
   "source": [
    "flight['trip_round'] = flight.apply(func, axis=1)"
   ]
  },
  {
   "cell_type": "code",
   "execution_count": 30,
   "metadata": {
    "colab": {},
    "colab_type": "code",
    "id": "OBno_LqHJlDB"
   },
   "outputs": [],
   "source": [
    "test['trip_round'] = test.apply(func, axis=1)"
   ]
  },
  {
   "cell_type": "markdown",
   "metadata": {
    "colab_type": "text",
    "id": "2gFzSnnEZkrU"
   },
   "source": [
    "### Create Column visited_city_id\n"
   ]
  },
  {
   "cell_type": "code",
   "execution_count": 31,
   "metadata": {
    "colab": {},
    "colab_type": "code",
    "id": "Lb_lGC0cZj25"
   },
   "outputs": [],
   "source": [
    "tmp_set = {x for x in flight['visited_city']}\n",
    "tmp_dict = {j : i for i,j in enumerate(tmp_set)}"
   ]
  },
  {
   "cell_type": "code",
   "execution_count": 32,
   "metadata": {
    "colab": {},
    "colab_type": "code",
    "id": "4hiwtqDtaM2E"
   },
   "outputs": [],
   "source": [
    "flight['visited_city_id'] = [tmp_dict[x] for x in flight['visited_city']]\n",
    "test['visited_city_id'] = [tmp_dict[x] for x in test['visited_city']]"
   ]
  },
  {
   "cell_type": "markdown",
   "metadata": {
    "colab_type": "text",
    "id": "4giEITPGaYel"
   },
   "source": [
    "### Create Column airplanes_id"
   ]
  },
  {
   "cell_type": "code",
   "execution_count": 33,
   "metadata": {
    "colab": {},
    "colab_type": "code",
    "id": "MKDEuwryaau3"
   },
   "outputs": [],
   "source": [
    "tmp_set = {x for x in flight['airlines_name']}\n",
    "tmp_dict = {j : i for i,j in enumerate(tmp_set)}"
   ]
  },
  {
   "cell_type": "code",
   "execution_count": 34,
   "metadata": {
    "colab": {},
    "colab_type": "code",
    "id": "dX3NmM2VabDF"
   },
   "outputs": [],
   "source": [
    "flight['airlines_name_id'] = [tmp_dict[x] for x in flight['airlines_name']]\n",
    "test['airlines_name_id'] = [tmp_dict[x] for x in test['airlines_name']]"
   ]
  },
  {
   "cell_type": "markdown",
   "metadata": {
    "colab_type": "text",
    "id": "9bEo--O3abbF"
   },
   "source": [
    "### Create Column account_id_int"
   ]
  },
  {
   "cell_type": "code",
   "execution_count": 35,
   "metadata": {
    "colab": {},
    "colab_type": "code",
    "id": "Vnp5z-BeafQk"
   },
   "outputs": [],
   "source": [
    "s = flight['account_id'].tolist()\n",
    "s.extend(test['account_id'].tolist())\n",
    "tmp_set = {x for x in s}\n",
    "tmp_dict = {j : i for i,j in enumerate(tmp_set)}"
   ]
  },
  {
   "cell_type": "code",
   "execution_count": 36,
   "metadata": {
    "colab": {},
    "colab_type": "code",
    "id": "7ObPQAOKafNX"
   },
   "outputs": [],
   "source": [
    "flight['account_id_int'] = [tmp_dict[x] for x in flight['account_id']]\n",
    "test['account_id_int'] = [tmp_dict[x] for x in test['account_id']]"
   ]
  },
  {
   "cell_type": "markdown",
   "metadata": {
    "colab_type": "text",
    "id": "RKCFnWYYMiF6"
   },
   "source": [
    "# 3. Exploratory Data Analysis"
   ]
  },
  {
   "cell_type": "markdown",
   "metadata": {
    "colab_type": "text",
    "id": "aCbkknR4d7pz"
   },
   "source": [
    "In this process data visualization will be carried out through preprocessing. The goal is to get the connection between a feature and the target feature (is_cross_sell)."
   ]
  },
  {
   "cell_type": "code",
   "execution_count": 37,
   "metadata": {
    "colab": {},
    "colab_type": "code",
    "id": "PlZ9Pm5UMm_U"
   },
   "outputs": [],
   "source": [
    "# set order_id sebagai index column\n",
    "\n",
    "train = flight.set_index('order_id')\n",
    "test = test.set_index('order_id')"
   ]
  },
  {
   "cell_type": "markdown",
   "metadata": {
    "colab_type": "text",
    "id": "o_vggA1hv9L0"
   },
   "source": [
    "## A. Visualisasi Fitur Categorical terhadap Cross Selling\n",
    "\n",
    "The categorical features to be visualized are `no_of_seats`,` count_visited_city`, `is_tx_promo_yes`,` gender_m`, `service_class_business`, ` trip_round`, `visited_city_id`,` airlines_name_id`, and `account_id_int`. The visualization method is with countplot and cross tabulation charts. Especially for `account_id_int`, cross tabulation is only done because the number of classes is very large. Then, there are features like `no_of_seats` and` count_visited_city` which can also be treated as quantitative features, but because the classes in these features are few, we process them as categorical features."
   ]
  },
  {
   "cell_type": "code",
   "execution_count": 38,
   "metadata": {
    "colab": {},
    "colab_type": "code",
    "id": "14UTgdiVAGSZ"
   },
   "outputs": [
    {
     "data": {
      "text/html": [
       "<div>\n",
       "<style scoped>\n",
       "    .dataframe tbody tr th:only-of-type {\n",
       "        vertical-align: middle;\n",
       "    }\n",
       "\n",
       "    .dataframe tbody tr th {\n",
       "        vertical-align: top;\n",
       "    }\n",
       "\n",
       "    .dataframe thead th {\n",
       "        text-align: right;\n",
       "    }\n",
       "</style>\n",
       "<table border=\"1\" class=\"dataframe\">\n",
       "  <thead>\n",
       "    <tr style=\"text-align: right;\">\n",
       "      <th>is_cross_sell</th>\n",
       "      <th>0</th>\n",
       "      <th>1</th>\n",
       "    </tr>\n",
       "    <tr>\n",
       "      <th>no_of_seats</th>\n",
       "      <th></th>\n",
       "      <th></th>\n",
       "    </tr>\n",
       "  </thead>\n",
       "  <tbody>\n",
       "    <tr>\n",
       "      <th>1.0</th>\n",
       "      <td>0.950731</td>\n",
       "      <td>0.049269</td>\n",
       "    </tr>\n",
       "    <tr>\n",
       "      <th>2.0</th>\n",
       "      <td>0.929772</td>\n",
       "      <td>0.070228</td>\n",
       "    </tr>\n",
       "    <tr>\n",
       "      <th>3.0</th>\n",
       "      <td>0.925571</td>\n",
       "      <td>0.074429</td>\n",
       "    </tr>\n",
       "    <tr>\n",
       "      <th>4.0</th>\n",
       "      <td>0.939553</td>\n",
       "      <td>0.060447</td>\n",
       "    </tr>\n",
       "    <tr>\n",
       "      <th>5.0</th>\n",
       "      <td>0.932122</td>\n",
       "      <td>0.067878</td>\n",
       "    </tr>\n",
       "    <tr>\n",
       "      <th>6.0</th>\n",
       "      <td>0.946781</td>\n",
       "      <td>0.053219</td>\n",
       "    </tr>\n",
       "    <tr>\n",
       "      <th>7.0</th>\n",
       "      <td>0.938776</td>\n",
       "      <td>0.061224</td>\n",
       "    </tr>\n",
       "    <tr>\n",
       "      <th>8.0</th>\n",
       "      <td>0.920000</td>\n",
       "      <td>0.080000</td>\n",
       "    </tr>\n",
       "    <tr>\n",
       "      <th>9.0</th>\n",
       "      <td>1.000000</td>\n",
       "      <td>0.000000</td>\n",
       "    </tr>\n",
       "    <tr>\n",
       "      <th>10.0</th>\n",
       "      <td>1.000000</td>\n",
       "      <td>0.000000</td>\n",
       "    </tr>\n",
       "    <tr>\n",
       "      <th>11.0</th>\n",
       "      <td>1.000000</td>\n",
       "      <td>0.000000</td>\n",
       "    </tr>\n",
       "  </tbody>\n",
       "</table>\n",
       "</div>"
      ],
      "text/plain": [
       "is_cross_sell         0         1\n",
       "no_of_seats                      \n",
       "1.0            0.950731  0.049269\n",
       "2.0            0.929772  0.070228\n",
       "3.0            0.925571  0.074429\n",
       "4.0            0.939553  0.060447\n",
       "5.0            0.932122  0.067878\n",
       "6.0            0.946781  0.053219\n",
       "7.0            0.938776  0.061224\n",
       "8.0            0.920000  0.080000\n",
       "9.0            1.000000  0.000000\n",
       "10.0           1.000000  0.000000\n",
       "11.0           1.000000  0.000000"
      ]
     },
     "execution_count": 38,
     "metadata": {},
     "output_type": "execute_result"
    },
    {
     "data": {
      "image/png": "[encoded data removed]",
      "text/plain": [
       "<Figure size 432x288 with 1 Axes>"
      ]
     },
     "metadata": {
      "needs_background": "light"
     },
     "output_type": "display_data"
    }
   ],
   "source": [
    "sns.countplot(x='no_of_seats', hue='is_cross_sell', data=train)\n",
    "pd.crosstab(train.no_of_seats, train.is_cross_sell, normalize='index')"
   ]
  },
  {
   "cell_type": "code",
   "execution_count": 39,
   "metadata": {
    "colab": {},
    "colab_type": "code",
    "id": "q1Gp1naiBl6A"
   },
   "outputs": [
    {
     "data": {
      "text/html": [
       "<div>\n",
       "<style scoped>\n",
       "    .dataframe tbody tr th:only-of-type {\n",
       "        vertical-align: middle;\n",
       "    }\n",
       "\n",
       "    .dataframe tbody tr th {\n",
       "        vertical-align: top;\n",
       "    }\n",
       "\n",
       "    .dataframe thead th {\n",
       "        text-align: right;\n",
       "    }\n",
       "</style>\n",
       "<table border=\"1\" class=\"dataframe\">\n",
       "  <thead>\n",
       "    <tr style=\"text-align: right;\">\n",
       "      <th>is_cross_sell</th>\n",
       "      <th>0</th>\n",
       "      <th>1</th>\n",
       "    </tr>\n",
       "    <tr>\n",
       "      <th>count_visited_city</th>\n",
       "      <th></th>\n",
       "      <th></th>\n",
       "    </tr>\n",
       "  </thead>\n",
       "  <tbody>\n",
       "    <tr>\n",
       "      <th>3</th>\n",
       "      <td>0.943835</td>\n",
       "      <td>0.056165</td>\n",
       "    </tr>\n",
       "    <tr>\n",
       "      <th>4</th>\n",
       "      <td>0.943196</td>\n",
       "      <td>0.056804</td>\n",
       "    </tr>\n",
       "    <tr>\n",
       "      <th>5</th>\n",
       "      <td>0.939401</td>\n",
       "      <td>0.060599</td>\n",
       "    </tr>\n",
       "  </tbody>\n",
       "</table>\n",
       "</div>"
      ],
      "text/plain": [
       "is_cross_sell              0         1\n",
       "count_visited_city                    \n",
       "3                   0.943835  0.056165\n",
       "4                   0.943196  0.056804\n",
       "5                   0.939401  0.060599"
      ]
     },
     "execution_count": 39,
     "metadata": {},
     "output_type": "execute_result"
    },
    {
     "data": {
      "image/png": "[encoded data removed]",
      "text/plain": [
       "<Figure size 432x288 with 1 Axes>"
      ]
     },
     "metadata": {
      "needs_background": "light"
     },
     "output_type": "display_data"
    }
   ],
   "source": [
    "sns.countplot(x='count_visited_city', hue='is_cross_sell', data=train)\n",
    "pd.crosstab(train.count_visited_city, train.is_cross_sell, normalize='index')"
   ]
  },
  {
   "cell_type": "code",
   "execution_count": 40,
   "metadata": {
    "colab": {},
    "colab_type": "code",
    "id": "kX56TlR7ufCI"
   },
   "outputs": [
    {
     "data": {
      "text/html": [
       "<div>\n",
       "<style scoped>\n",
       "    .dataframe tbody tr th:only-of-type {\n",
       "        vertical-align: middle;\n",
       "    }\n",
       "\n",
       "    .dataframe tbody tr th {\n",
       "        vertical-align: top;\n",
       "    }\n",
       "\n",
       "    .dataframe thead th {\n",
       "        text-align: right;\n",
       "    }\n",
       "</style>\n",
       "<table border=\"1\" class=\"dataframe\">\n",
       "  <thead>\n",
       "    <tr style=\"text-align: right;\">\n",
       "      <th>is_cross_sell</th>\n",
       "      <th>0</th>\n",
       "      <th>1</th>\n",
       "    </tr>\n",
       "    <tr>\n",
       "      <th>is_tx_promo_yes</th>\n",
       "      <th></th>\n",
       "      <th></th>\n",
       "    </tr>\n",
       "  </thead>\n",
       "  <tbody>\n",
       "    <tr>\n",
       "      <th>0</th>\n",
       "      <td>0.962926</td>\n",
       "      <td>0.037074</td>\n",
       "    </tr>\n",
       "    <tr>\n",
       "      <th>1</th>\n",
       "      <td>0.915728</td>\n",
       "      <td>0.084272</td>\n",
       "    </tr>\n",
       "  </tbody>\n",
       "</table>\n",
       "</div>"
      ],
      "text/plain": [
       "is_cross_sell           0         1\n",
       "is_tx_promo_yes                    \n",
       "0                0.962926  0.037074\n",
       "1                0.915728  0.084272"
      ]
     },
     "execution_count": 40,
     "metadata": {},
     "output_type": "execute_result"
    },
    {
     "data": {
      "image/png": "[encoded data removed]",
      "text/plain": [
       "<Figure size 432x288 with 1 Axes>"
      ]
     },
     "metadata": {
      "needs_background": "light"
     },
     "output_type": "display_data"
    }
   ],
   "source": [
    "sns.countplot(x='is_tx_promo_yes', hue='is_cross_sell', data=train)\n",
    "pd.crosstab(train.is_tx_promo_yes, train.is_cross_sell, normalize='index')"
   ]
  },
  {
   "cell_type": "code",
   "execution_count": 41,
   "metadata": {
    "colab": {},
    "colab_type": "code",
    "id": "HSZzMAlHufRG"
   },
   "outputs": [
    {
     "data": {
      "text/html": [
       "<div>\n",
       "<style scoped>\n",
       "    .dataframe tbody tr th:only-of-type {\n",
       "        vertical-align: middle;\n",
       "    }\n",
       "\n",
       "    .dataframe tbody tr th {\n",
       "        vertical-align: top;\n",
       "    }\n",
       "\n",
       "    .dataframe thead th {\n",
       "        text-align: right;\n",
       "    }\n",
       "</style>\n",
       "<table border=\"1\" class=\"dataframe\">\n",
       "  <thead>\n",
       "    <tr style=\"text-align: right;\">\n",
       "      <th>is_cross_sell</th>\n",
       "      <th>0</th>\n",
       "      <th>1</th>\n",
       "    </tr>\n",
       "    <tr>\n",
       "      <th>gender_m</th>\n",
       "      <th></th>\n",
       "      <th></th>\n",
       "    </tr>\n",
       "  </thead>\n",
       "  <tbody>\n",
       "    <tr>\n",
       "      <th>0</th>\n",
       "      <td>0.939475</td>\n",
       "      <td>0.060525</td>\n",
       "    </tr>\n",
       "    <tr>\n",
       "      <th>1</th>\n",
       "      <td>0.945873</td>\n",
       "      <td>0.054127</td>\n",
       "    </tr>\n",
       "  </tbody>\n",
       "</table>\n",
       "</div>"
      ],
      "text/plain": [
       "is_cross_sell         0         1\n",
       "gender_m                         \n",
       "0              0.939475  0.060525\n",
       "1              0.945873  0.054127"
      ]
     },
     "execution_count": 41,
     "metadata": {},
     "output_type": "execute_result"
    },
    {
     "data": {
      "image/png": "[encoded data removed]",
      "text/plain": [
       "<Figure size 432x288 with 1 Axes>"
      ]
     },
     "metadata": {
      "needs_background": "light"
     },
     "output_type": "display_data"
    }
   ],
   "source": [
    "sns.countplot(x='gender_m', hue='is_cross_sell', data=train)\n",
    "pd.crosstab(train.gender_m, train.is_cross_sell, normalize='index')"
   ]
  },
  {
   "cell_type": "code",
   "execution_count": 42,
   "metadata": {
    "colab": {},
    "colab_type": "code",
    "id": "kjAEegkgufYM"
   },
   "outputs": [
    {
     "data": {
      "text/html": [
       "<div>\n",
       "<style scoped>\n",
       "    .dataframe tbody tr th:only-of-type {\n",
       "        vertical-align: middle;\n",
       "    }\n",
       "\n",
       "    .dataframe tbody tr th {\n",
       "        vertical-align: top;\n",
       "    }\n",
       "\n",
       "    .dataframe thead th {\n",
       "        text-align: right;\n",
       "    }\n",
       "</style>\n",
       "<table border=\"1\" class=\"dataframe\">\n",
       "  <thead>\n",
       "    <tr style=\"text-align: right;\">\n",
       "      <th>is_cross_sell</th>\n",
       "      <th>0</th>\n",
       "      <th>1</th>\n",
       "    </tr>\n",
       "    <tr>\n",
       "      <th>service_class_business</th>\n",
       "      <th></th>\n",
       "      <th></th>\n",
       "    </tr>\n",
       "  </thead>\n",
       "  <tbody>\n",
       "    <tr>\n",
       "      <th>0</th>\n",
       "      <td>0.942787</td>\n",
       "      <td>0.057213</td>\n",
       "    </tr>\n",
       "    <tr>\n",
       "      <th>1</th>\n",
       "      <td>0.943060</td>\n",
       "      <td>0.056940</td>\n",
       "    </tr>\n",
       "  </tbody>\n",
       "</table>\n",
       "</div>"
      ],
      "text/plain": [
       "is_cross_sell                  0         1\n",
       "service_class_business                    \n",
       "0                       0.942787  0.057213\n",
       "1                       0.943060  0.056940"
      ]
     },
     "execution_count": 42,
     "metadata": {},
     "output_type": "execute_result"
    },
    {
     "data": {
      "image/png": "[encoded data removed]",
      "text/plain": [
       "<Figure size 432x288 with 1 Axes>"
      ]
     },
     "metadata": {
      "needs_background": "light"
     },
     "output_type": "display_data"
    }
   ],
   "source": [
    "sns.countplot(x='service_class_business', hue='is_cross_sell', data=train)\n",
    "pd.crosstab(train.service_class_business, train.is_cross_sell, normalize='index')"
   ]
  },
  {
   "cell_type": "code",
   "execution_count": 43,
   "metadata": {
    "colab": {},
    "colab_type": "code",
    "id": "wNcdhMLYuf1U"
   },
   "outputs": [
    {
     "data": {
      "text/html": [
       "<div>\n",
       "<style scoped>\n",
       "    .dataframe tbody tr th:only-of-type {\n",
       "        vertical-align: middle;\n",
       "    }\n",
       "\n",
       "    .dataframe tbody tr th {\n",
       "        vertical-align: top;\n",
       "    }\n",
       "\n",
       "    .dataframe thead th {\n",
       "        text-align: right;\n",
       "    }\n",
       "</style>\n",
       "<table border=\"1\" class=\"dataframe\">\n",
       "  <thead>\n",
       "    <tr style=\"text-align: right;\">\n",
       "      <th>is_cross_sell</th>\n",
       "      <th>0</th>\n",
       "      <th>1</th>\n",
       "    </tr>\n",
       "    <tr>\n",
       "      <th>trip_round</th>\n",
       "      <th></th>\n",
       "      <th></th>\n",
       "    </tr>\n",
       "  </thead>\n",
       "  <tbody>\n",
       "    <tr>\n",
       "      <th>0</th>\n",
       "      <td>0.912999</td>\n",
       "      <td>0.087001</td>\n",
       "    </tr>\n",
       "    <tr>\n",
       "      <th>1</th>\n",
       "      <td>0.944285</td>\n",
       "      <td>0.055715</td>\n",
       "    </tr>\n",
       "    <tr>\n",
       "      <th>2</th>\n",
       "      <td>0.995584</td>\n",
       "      <td>0.004416</td>\n",
       "    </tr>\n",
       "  </tbody>\n",
       "</table>\n",
       "</div>"
      ],
      "text/plain": [
       "is_cross_sell         0         1\n",
       "trip_round                       \n",
       "0              0.912999  0.087001\n",
       "1              0.944285  0.055715\n",
       "2              0.995584  0.004416"
      ]
     },
     "execution_count": 43,
     "metadata": {},
     "output_type": "execute_result"
    },
    {
     "data": {
      "image/png": "[encoded data removed]",
      "text/plain": [
       "<Figure size 432x288 with 1 Axes>"
      ]
     },
     "metadata": {
      "needs_background": "light"
     },
     "output_type": "display_data"
    }
   ],
   "source": [
    "sns.countplot(x='trip_round', hue='is_cross_sell', data=train)\n",
    "pd.crosstab(train.trip_round, train.is_cross_sell, normalize='index')"
   ]
  },
  {
   "cell_type": "code",
   "execution_count": 44,
   "metadata": {
    "colab": {},
    "colab_type": "code",
    "id": "wfkk0Oe-ufyU"
   },
   "outputs": [
    {
     "data": {
      "text/html": [
       "<div>\n",
       "<style scoped>\n",
       "    .dataframe tbody tr th:only-of-type {\n",
       "        vertical-align: middle;\n",
       "    }\n",
       "\n",
       "    .dataframe tbody tr th {\n",
       "        vertical-align: top;\n",
       "    }\n",
       "\n",
       "    .dataframe thead th {\n",
       "        text-align: right;\n",
       "    }\n",
       "</style>\n",
       "<table border=\"1\" class=\"dataframe\">\n",
       "  <thead>\n",
       "    <tr style=\"text-align: right;\">\n",
       "      <th>is_cross_sell</th>\n",
       "      <th>0</th>\n",
       "      <th>1</th>\n",
       "    </tr>\n",
       "    <tr>\n",
       "      <th>visited_city_id</th>\n",
       "      <th></th>\n",
       "      <th></th>\n",
       "    </tr>\n",
       "  </thead>\n",
       "  <tbody>\n",
       "    <tr>\n",
       "      <th>0</th>\n",
       "      <td>0.942136</td>\n",
       "      <td>0.057864</td>\n",
       "    </tr>\n",
       "    <tr>\n",
       "      <th>1</th>\n",
       "      <td>0.939562</td>\n",
       "      <td>0.060438</td>\n",
       "    </tr>\n",
       "    <tr>\n",
       "      <th>2</th>\n",
       "      <td>0.943953</td>\n",
       "      <td>0.056047</td>\n",
       "    </tr>\n",
       "    <tr>\n",
       "      <th>3</th>\n",
       "      <td>0.951811</td>\n",
       "      <td>0.048189</td>\n",
       "    </tr>\n",
       "    <tr>\n",
       "      <th>4</th>\n",
       "      <td>0.937832</td>\n",
       "      <td>0.062168</td>\n",
       "    </tr>\n",
       "    <tr>\n",
       "      <th>5</th>\n",
       "      <td>0.933630</td>\n",
       "      <td>0.066370</td>\n",
       "    </tr>\n",
       "    <tr>\n",
       "      <th>6</th>\n",
       "      <td>0.949739</td>\n",
       "      <td>0.050261</td>\n",
       "    </tr>\n",
       "    <tr>\n",
       "      <th>7</th>\n",
       "      <td>0.941811</td>\n",
       "      <td>0.058189</td>\n",
       "    </tr>\n",
       "  </tbody>\n",
       "</table>\n",
       "</div>"
      ],
      "text/plain": [
       "is_cross_sell           0         1\n",
       "visited_city_id                    \n",
       "0                0.942136  0.057864\n",
       "1                0.939562  0.060438\n",
       "2                0.943953  0.056047\n",
       "3                0.951811  0.048189\n",
       "4                0.937832  0.062168\n",
       "5                0.933630  0.066370\n",
       "6                0.949739  0.050261\n",
       "7                0.941811  0.058189"
      ]
     },
     "execution_count": 44,
     "metadata": {},
     "output_type": "execute_result"
    },
    {
     "data": {
      "image/png": "[encoded data removed]",
      "text/plain": [
       "<Figure size 432x288 with 1 Axes>"
      ]
     },
     "metadata": {
      "needs_background": "light"
     },
     "output_type": "display_data"
    }
   ],
   "source": [
    "sns.countplot(x='visited_city_id', hue='is_cross_sell', data=train)\n",
    "pd.crosstab(train.visited_city_id, train.is_cross_sell, normalize='index')"
   ]
  },
  {
   "cell_type": "code",
   "execution_count": 45,
   "metadata": {
    "colab": {},
    "colab_type": "code",
    "id": "IdqUSFovufWI"
   },
   "outputs": [
    {
     "data": {
      "text/html": [
       "<div>\n",
       "<style scoped>\n",
       "    .dataframe tbody tr th:only-of-type {\n",
       "        vertical-align: middle;\n",
       "    }\n",
       "\n",
       "    .dataframe tbody tr th {\n",
       "        vertical-align: top;\n",
       "    }\n",
       "\n",
       "    .dataframe thead th {\n",
       "        text-align: right;\n",
       "    }\n",
       "</style>\n",
       "<table border=\"1\" class=\"dataframe\">\n",
       "  <thead>\n",
       "    <tr style=\"text-align: right;\">\n",
       "      <th>is_cross_sell</th>\n",
       "      <th>0</th>\n",
       "      <th>1</th>\n",
       "    </tr>\n",
       "    <tr>\n",
       "      <th>airlines_name_id</th>\n",
       "      <th></th>\n",
       "      <th></th>\n",
       "    </tr>\n",
       "  </thead>\n",
       "  <tbody>\n",
       "    <tr>\n",
       "      <th>0</th>\n",
       "      <td>1.000000</td>\n",
       "      <td>0.000000</td>\n",
       "    </tr>\n",
       "    <tr>\n",
       "      <th>1</th>\n",
       "      <td>0.937535</td>\n",
       "      <td>0.062465</td>\n",
       "    </tr>\n",
       "    <tr>\n",
       "      <th>2</th>\n",
       "      <td>0.953623</td>\n",
       "      <td>0.046377</td>\n",
       "    </tr>\n",
       "    <tr>\n",
       "      <th>3</th>\n",
       "      <td>0.940604</td>\n",
       "      <td>0.059396</td>\n",
       "    </tr>\n",
       "    <tr>\n",
       "      <th>4</th>\n",
       "      <td>0.925231</td>\n",
       "      <td>0.074769</td>\n",
       "    </tr>\n",
       "    <tr>\n",
       "      <th>5</th>\n",
       "      <td>0.945772</td>\n",
       "      <td>0.054228</td>\n",
       "    </tr>\n",
       "    <tr>\n",
       "      <th>6</th>\n",
       "      <td>1.000000</td>\n",
       "      <td>0.000000</td>\n",
       "    </tr>\n",
       "    <tr>\n",
       "      <th>7</th>\n",
       "      <td>0.940940</td>\n",
       "      <td>0.059060</td>\n",
       "    </tr>\n",
       "  </tbody>\n",
       "</table>\n",
       "</div>"
      ],
      "text/plain": [
       "is_cross_sell            0         1\n",
       "airlines_name_id                    \n",
       "0                 1.000000  0.000000\n",
       "1                 0.937535  0.062465\n",
       "2                 0.953623  0.046377\n",
       "3                 0.940604  0.059396\n",
       "4                 0.925231  0.074769\n",
       "5                 0.945772  0.054228\n",
       "6                 1.000000  0.000000\n",
       "7                 0.940940  0.059060"
      ]
     },
     "execution_count": 45,
     "metadata": {},
     "output_type": "execute_result"
    },
    {
     "data": {
      "image/png": "[encoded data removed]",
      "text/plain": [
       "<Figure size 432x288 with 1 Axes>"
      ]
     },
     "metadata": {
      "needs_background": "light"
     },
     "output_type": "display_data"
    }
   ],
   "source": [
    "sns.countplot(x='airlines_name_id', hue='is_cross_sell', data=train)\n",
    "pd.crosstab(train.airlines_name_id, train.is_cross_sell, normalize='index')"
   ]
  },
  {
   "cell_type": "code",
   "execution_count": 46,
   "metadata": {
    "colab": {},
    "colab_type": "code",
    "id": "hmI6-5UW8vAB"
   },
   "outputs": [
    {
     "data": {
      "text/html": [
       "<div>\n",
       "<style scoped>\n",
       "    .dataframe tbody tr th:only-of-type {\n",
       "        vertical-align: middle;\n",
       "    }\n",
       "\n",
       "    .dataframe tbody tr th {\n",
       "        vertical-align: top;\n",
       "    }\n",
       "\n",
       "    .dataframe thead th {\n",
       "        text-align: right;\n",
       "    }\n",
       "</style>\n",
       "<table border=\"1\" class=\"dataframe\">\n",
       "  <thead>\n",
       "    <tr style=\"text-align: right;\">\n",
       "      <th>is_cross_sell</th>\n",
       "      <th>0</th>\n",
       "      <th>1</th>\n",
       "    </tr>\n",
       "    <tr>\n",
       "      <th>account_id_int</th>\n",
       "      <th></th>\n",
       "      <th></th>\n",
       "    </tr>\n",
       "  </thead>\n",
       "  <tbody>\n",
       "    <tr>\n",
       "      <th>0</th>\n",
       "      <td>1.0</td>\n",
       "      <td>0.0</td>\n",
       "    </tr>\n",
       "    <tr>\n",
       "      <th>1</th>\n",
       "      <td>1.0</td>\n",
       "      <td>0.0</td>\n",
       "    </tr>\n",
       "    <tr>\n",
       "      <th>2</th>\n",
       "      <td>1.0</td>\n",
       "      <td>0.0</td>\n",
       "    </tr>\n",
       "    <tr>\n",
       "      <th>3</th>\n",
       "      <td>1.0</td>\n",
       "      <td>0.0</td>\n",
       "    </tr>\n",
       "    <tr>\n",
       "      <th>4</th>\n",
       "      <td>1.0</td>\n",
       "      <td>0.0</td>\n",
       "    </tr>\n",
       "    <tr>\n",
       "      <th>...</th>\n",
       "      <td>...</td>\n",
       "      <td>...</td>\n",
       "    </tr>\n",
       "    <tr>\n",
       "      <th>79610</th>\n",
       "      <td>1.0</td>\n",
       "      <td>0.0</td>\n",
       "    </tr>\n",
       "    <tr>\n",
       "      <th>79611</th>\n",
       "      <td>1.0</td>\n",
       "      <td>0.0</td>\n",
       "    </tr>\n",
       "    <tr>\n",
       "      <th>79612</th>\n",
       "      <td>1.0</td>\n",
       "      <td>0.0</td>\n",
       "    </tr>\n",
       "    <tr>\n",
       "      <th>79613</th>\n",
       "      <td>1.0</td>\n",
       "      <td>0.0</td>\n",
       "    </tr>\n",
       "    <tr>\n",
       "      <th>79614</th>\n",
       "      <td>1.0</td>\n",
       "      <td>0.0</td>\n",
       "    </tr>\n",
       "  </tbody>\n",
       "</table>\n",
       "<p>74796 rows × 2 columns</p>\n",
       "</div>"
      ],
      "text/plain": [
       "is_cross_sell     0    1\n",
       "account_id_int          \n",
       "0               1.0  0.0\n",
       "1               1.0  0.0\n",
       "2               1.0  0.0\n",
       "3               1.0  0.0\n",
       "4               1.0  0.0\n",
       "...             ...  ...\n",
       "79610           1.0  0.0\n",
       "79611           1.0  0.0\n",
       "79612           1.0  0.0\n",
       "79613           1.0  0.0\n",
       "79614           1.0  0.0\n",
       "\n",
       "[74796 rows x 2 columns]"
      ]
     },
     "execution_count": 46,
     "metadata": {},
     "output_type": "execute_result"
    }
   ],
   "source": [
    "pd.crosstab(train.account_id_int, train.is_cross_sell, normalize='index')"
   ]
  },
  {
   "cell_type": "markdown",
   "metadata": {
    "colab_type": "text",
    "id": "Jg0gYgCzwcsg"
   },
   "source": [
    "## B. Visualisasi Fitur Kuantitatif terhadap Cross Selling\n",
    "\n",
    "Fitur kuantitatif yang akan divisualisasi adalah `member_duration_days`, `price`, dan `count_transaction`. Cara yang digunakan untuk visualisasi adalah dengan boxplot."
   ]
  },
  {
   "cell_type": "code",
   "execution_count": 47,
   "metadata": {
    "colab": {},
    "colab_type": "code",
    "id": "49HuJUTEue-J"
   },
   "outputs": [
    {
     "data": {
      "text/plain": [
       "<matplotlib.axes._subplots.AxesSubplot at 0x7f98b8071cc0>"
      ]
     },
     "execution_count": 47,
     "metadata": {},
     "output_type": "execute_result"
    },
    {
     "data": {
      "image/png": "[encoded data removed]",
      "text/plain": [
       "<Figure size 432x288 with 1 Axes>"
      ]
     },
     "metadata": {
      "needs_background": "light"
     },
     "output_type": "display_data"
    }
   ],
   "source": [
    "sns.boxplot(x='is_cross_sell', y='member_duration_days', data=train)"
   ]
  },
  {
   "cell_type": "code",
   "execution_count": 48,
   "metadata": {
    "colab": {},
    "colab_type": "code",
    "id": "IJoZkEP3C6G3"
   },
   "outputs": [
    {
     "data": {
      "text/plain": [
       "<matplotlib.axes._subplots.AxesSubplot at 0x7f98b800f320>"
      ]
     },
     "execution_count": 48,
     "metadata": {},
     "output_type": "execute_result"
    },
    {
     "data": {
      "image/png": "[encoded data removed]",
      "text/plain": [
       "<Figure size 432x288 with 1 Axes>"
      ]
     },
     "metadata": {
      "needs_background": "light"
     },
     "output_type": "display_data"
    }
   ],
   "source": [
    "sns.boxplot(x='is_cross_sell', y='price', data=train)"
   ]
  },
  {
   "cell_type": "code",
   "execution_count": 49,
   "metadata": {
    "colab": {},
    "colab_type": "code",
    "id": "t_LDavOVC6fE"
   },
   "outputs": [
    {
     "data": {
      "text/plain": [
       "<matplotlib.axes._subplots.AxesSubplot at 0x7f98b7e904e0>"
      ]
     },
     "execution_count": 49,
     "metadata": {},
     "output_type": "execute_result"
    },
    {
     "data": {
      "image/png": "[encoded data removed]",
      "text/plain": [
       "<Figure size 432x288 with 1 Axes>"
      ]
     },
     "metadata": {
      "needs_background": "light"
     },
     "output_type": "display_data"
    }
   ],
   "source": [
    "sns.boxplot(x='is_cross_sell', y='count_transaction', data=train)"
   ]
  },
  {
   "cell_type": "markdown",
   "metadata": {
    "colab_type": "text",
    "id": "rNwLN45hMnzi"
   },
   "source": [
    "# 4. Feature Engineering"
   ]
  },
  {
   "cell_type": "markdown",
   "metadata": {
    "colab_type": "text",
    "id": "kTrZy9GiSBno"
   },
   "source": [
    "![Feature engineering implementation](https://drive.google.com/uc?id=1VPGI6t3IAZTbH7tmg7R59fc5EYLHZZ8e)\n",
    "\n",
    "Image 2. Feature engineering flow"
   ]
  },
  {
   "cell_type": "markdown",
   "metadata": {
    "colab_type": "text",
    "id": "XNpYYMVQcIFS"
   },
   "source": [
    "*Target encoding* is one of the *categorical encoding* methods based on mapping independent attributes with high individual cardinality values (such as id, e-mail, etc.) to estimate the probability or expected value of a dependent dependent on certain statistical measurements.[2]\n",
    "\n",
    "The encoding target is performed on the `account_id_int` feature. This is based on the hypothesis taken from the theory of \"repeat-buying\"[3] that users who do cross selling with higher frequencies, will have a higher probability also to do cross selling again. So that it can be made a feature of probability of cross selling events for certain users from their appearance on previous transactions. This is also supported by the results of visualization in the *Exploratory Data Analysis* section where the majority of accounts get cross selling for all orders or do not get cross selling at all.\n",
    "\n",
    "We created a new feature called `account_id_enc` which is the result of the encoding target for each account based on the **mean** of all cross selling values for the respective account."
   ]
  },
  {
   "cell_type": "markdown",
   "metadata": {
    "colab_type": "text",
    "id": "7oGcD0tmArc4"
   },
   "source": [
    "### Target encoding by mean value"
   ]
  },
  {
   "cell_type": "code",
   "execution_count": 50,
   "metadata": {
    "colab": {},
    "colab_type": "code",
    "id": "54zPURI1W54w"
   },
   "outputs": [],
   "source": [
    "mean = train['is_cross_sell'].mean()\n",
    "mean_encode = train.groupby('account_id_int')['is_cross_sell'].mean()\n",
    "train['account_id_enc'] = train['account_id_int'].map(mean_encode).fillna(mean)\n",
    "test['account_id_enc'] = test['account_id_int'].map(mean_encode).fillna(mean)"
   ]
  },
  {
   "cell_type": "markdown",
   "metadata": {
    "colab_type": "text",
    "id": "sIg0FjTphnSD"
   },
   "source": [
    "## B. Feature selection\n",
    "\n",
    "Feature selection was first performed on features that are * imbalance * and highly correlated with other features, such as `city`,` service_class`, `trip`, etc.\n",
    "\n",
    "Periodic feature elimination is done after the validation stage by looking at * feature importance * and the accuracy of the validation results."
   ]
  },
  {
   "cell_type": "markdown",
   "metadata": {
    "colab_type": "text",
    "id": "BJHvgVvXA8Ct"
   },
   "source": [
    "### Features Correlation"
   ]
  },
  {
   "cell_type": "code",
   "execution_count": 51,
   "metadata": {
    "colab": {},
    "colab_type": "code",
    "id": "H4H8oz9q-dD4"
   },
   "outputs": [
    {
     "data": {
      "text/plain": [
       "<matplotlib.axes._subplots.AxesSubplot at 0x7f98b7e49ba8>"
      ]
     },
     "execution_count": 51,
     "metadata": {},
     "output_type": "execute_result"
    },
    {
     "data": {
      "image/png": "[encoded data removed]",
      "text/plain": [
       "<Figure size 432x288 with 2 Axes>"
      ]
     },
     "metadata": {
      "needs_background": "light"
     },
     "output_type": "display_data"
    }
   ],
   "source": [
    "sns.heatmap(train.corr())"
   ]
  },
  {
   "cell_type": "markdown",
   "metadata": {
    "colab_type": "text",
    "id": "uDD9FnA_q2Cy"
   },
   "source": [
    "### Features Elimination"
   ]
  },
  {
   "cell_type": "code",
   "execution_count": 52,
   "metadata": {
    "colab": {},
    "colab_type": "code",
    "id": "dRLqYbYXMxKO"
   },
   "outputs": [],
   "source": [
    "X = train.drop(['account_id', 'gender', 'trip', 'service_class', \n",
    "                'is_tx_promo', 'airlines_name', 'service_class_business',\n",
    "                'hotel_id', 'visited_city', 'log_transaction', 'starRating', 'city', 'free_wifi',\n",
    "                'pool_access', 'free_breakfast', 'count_visited_city', 'account_id_int'], axis=1)"
   ]
  },
  {
   "cell_type": "code",
   "execution_count": 53,
   "metadata": {
    "colab": {},
    "colab_type": "code",
    "id": "K76eKk6WVpK8"
   },
   "outputs": [],
   "source": [
    "test_ss = test.drop(['account_id', 'gender', 'trip', 'service_class',\n",
    "                     'is_tx_promo', 'airlines_name', 'service_class_business',\n",
    "                     'visited_city', 'log_transaction', 'count_visited_city', 'account_id_int'], axis=1)"
   ]
  },
  {
   "cell_type": "markdown",
   "metadata": {
    "colab_type": "text",
    "id": "14fqOS4ie3qg"
   },
   "source": [
    "## C. Feature Target"
   ]
  },
  {
   "cell_type": "code",
   "execution_count": 54,
   "metadata": {},
   "outputs": [
    {
     "data": {
      "text/plain": [
       "Index(['member_duration_days', 'price', 'no_of_seats', 'is_cross_sell',\n",
       "       'count_transaction', 'is_tx_promo_yes', 'gender_m', 'trip_round',\n",
       "       'visited_city_id', 'airlines_name_id', 'account_id_enc'],\n",
       "      dtype='object')"
      ]
     },
     "execution_count": 54,
     "metadata": {},
     "output_type": "execute_result"
    }
   ],
   "source": [
    "X.columns"
   ]
  },
  {
   "cell_type": "code",
   "execution_count": 55,
   "metadata": {
    "colab": {},
    "colab_type": "code",
    "id": "Qsqf043De8tn"
   },
   "outputs": [],
   "source": [
    "y = X['is_cross_sell']\n",
    "X = X.drop(['is_cross_sell'],axis=1)"
   ]
  },
  {
   "cell_type": "markdown",
   "metadata": {
    "colab_type": "text",
    "id": "s7GK1FKtMy3f"
   },
   "source": [
    "# 5. Modelling"
   ]
  },
  {
   "cell_type": "markdown",
   "metadata": {
    "colab_type": "text",
    "id": "bLR040uRgi8o"
   },
   "source": [
    "## A. State-of-the-art: Stacking Classifier\n",
    "\n",
    "*Stacking* method is one of the *ensemble learning* methods which is related to combining the results of classification using different learning algorithms in a dataset.[4] Method based on *Bayesian learning* theory which stipulates that to maximize prediction accuracy, rather than using only a single learning model, ideally using all models in a hypothetical space.[5]\n",
    "\n",
    "Voting is one of the methods commonly used to combine the results of classifications of *base-classifier*. In the first phase, some *base-classifier* will be drained on the data. In the second phase, the final prediction is determined by *meta-classifier* of the majority of predictions among *base-classifier* in the first phase."
   ]
  },
  {
   "cell_type": "markdown",
   "metadata": {
    "colab_type": "text",
    "id": "Gv5n3URkhlh0"
   },
   "source": [
    "## B. Model estimators\n",
    "\n",
    "The choice of methods and models *base-classifier* and *meta-classifier* is based on the advantages of *ensemble learning* in increasing prediction accuracy (Stacking), reducing variance (Bagging), and reducing bias (Boosting). [6] Bagging and Boosting methods are implemented on the use of *base-classifier* and the Stacking method is used as an improvised final prediction.\n",
    "\n",
    "By using the stacking method, several *base-classifier* tunning results are used in making the first phase prediction, namely:\n",
    "\n",
    "- `Random Forest Classifier:` the model combines several decision trees with Bagging techniques. In addition to the application of bagging, Random Forest can also assess the * feature importance * of the prediction process, so that this problem is chosen.\n",
    "\n",
    "- `Extra Trees Classifier:` the model combines several decision trees. Each tree is formed from a subset of randomized features (Extremely Randomized Trees).\n",
    "\n",
    "- `AdaBoost Classifier:` the model combines the classifier with the training data selection at each iteration and gives weight to the final prediction of the model.\n",
    "\n",
    "- `Bagging Classifier:` implementation of Bagging techniques with certain base estimators. Build several models from randomly collected data subsets and combine them.\n",
    "\n",
    "\n",
    "\n",
    "Then the `Voting Classifier` is used in the second phase as a *meta-classifier* determining the final prediction. Voting Classifier uses the wisdom of crowd system, we believe that some machine learning that is used as a voting system will have a better value than using only one machine learning model.\n",
    "\n",
    "![Method implementation](https://drive.google.com/uc?id=1NMl41NFYoF6hePEDQ86l-h7b-kcES_q_)\n",
    "\n",
    "Image 3. Stacking diagram"
   ]
  },
  {
   "cell_type": "markdown",
   "metadata": {
    "colab_type": "text",
    "id": "HAW4rTYKKAuQ"
   },
   "source": [
    "## C. Hyperparameter Tunning\n",
    "\n",
    "Hyperparameter tunning is done empirically so that hyperparameter is obtained which can optimize the score.\n"
   ]
  },
  {
   "cell_type": "markdown",
   "metadata": {
    "colab_type": "text",
    "id": "z_fkj-k3Dj2Z"
   },
   "source": [
    "### Base-classifier"
   ]
  },
  {
   "cell_type": "code",
   "execution_count": 56,
   "metadata": {
    "colab": {},
    "colab_type": "code",
    "id": "rGROamBsM4sq"
   },
   "outputs": [],
   "source": [
    "# Hasil parameter tunning masing-masing base-classifier\n",
    "\n",
    "rf = RandomForestClassifier(n_estimators=64, criterion= 'gini', max_depth=20, max_features=7, random_state= 1234,\n",
    "                            class_weight= 'balanced', min_samples_split=2)\n",
    "\n",
    "et = ExtraTreesClassifier(n_estimators=16, criterion= 'gini', max_depth=24, max_features= 6, random_state= 1234, \n",
    "                          class_weight= 'balanced', min_samples_split=2)\n",
    "\n",
    "bc = BaggingClassifier(n_estimators=128, max_features=6, random_state=1234, bootstrap=False)\n",
    "\n",
    "ab = AdaBoostClassifier(rf, n_estimators=10, random_state= 1234, learning_rate=0.005)"
   ]
  },
  {
   "cell_type": "markdown",
   "metadata": {
    "colab_type": "text",
    "id": "mTZkZTLREeH5"
   },
   "source": [
    "### Meta-classifier"
   ]
  },
  {
   "cell_type": "code",
   "execution_count": 57,
   "metadata": {
    "colab": {},
    "colab_type": "code",
    "id": "jUhmO8h7EK3r"
   },
   "outputs": [],
   "source": [
    "vc = VotingClassifier(estimators=[('et', et), ('rf', rf), ('bc', bc), ('ab', ab)], voting='soft')"
   ]
  },
  {
   "cell_type": "markdown",
   "metadata": {
    "colab_type": "text",
    "id": "1S2e2TyxM5V7"
   },
   "source": [
    "# 6. Validation\n",
    "\n",
    "\n",
    "\n"
   ]
  },
  {
   "cell_type": "markdown",
   "metadata": {
    "colab_type": "text",
    "id": "MuYCXnUj54jb"
   },
   "source": [
    "![validation flow](https://drive.google.com/uc?id=1yVe1wWpP_BKrYDM8rfkp2lXLjxw7eSEL)\n",
    "\n",
    "Image 4. Validation process flow"
   ]
  },
  {
   "cell_type": "markdown",
   "metadata": {
    "colab_type": "text",
    "id": "Sck8LiMN-6ER"
   },
   "source": [
    "## A. Validation score\n",
    "\n",
    "The validation metric score that is the reference is F1-score. The score is used to compare whether a capital and its prediction results are good enough or not.\n",
    "\n",
    "F1-score measures the balance between precision and recall, in which the considerations are False Negative and False Positive. Can be used to be metric when there is imbalance in the data.\n",
    "\n",
    "![F1-score formula](https://www.mikulskibartosz.name/assets/images/2019-02-04-f1-score-explained/formula.png)\n",
    "\n",
    "Image 5. F1-score formula\n",
    "\n",
    "In addition to the F1-score metric, accuracy remains the next reference to measure how accurately the model correctly predicted the data."
   ]
  },
  {
   "cell_type": "code",
   "execution_count": 58,
   "metadata": {
    "colab": {},
    "colab_type": "code",
    "id": "6X1p_8ig_oc4"
   },
   "outputs": [],
   "source": [
    "scoring = {'accuracy' : make_scorer(accuracy_score), \n",
    "           'precision' : make_scorer(precision_score),\n",
    "           'recall' : make_scorer(recall_score), \n",
    "           'f1_score' : make_scorer(f1_score)}"
   ]
  },
  {
   "cell_type": "markdown",
   "metadata": {
    "colab_type": "text",
    "id": "gVscYfqiCt8C"
   },
   "source": [
    "## B. Train/Test Splitting\n",
    "\n",
    "Train / Split Test is used to validate overfitting and underfitting of predictions. There are 20% of the data that become Hold out data. The model will only train 80% of the data, so Hold out data can be used as model validation.\n",
    "\n",
    "![Train/Test split diagram](https://drive.google.com/uc?id=10s102L6TmmAKuGdEVJ2pEwXCxVnJ5iIj)\n",
    "\n",
    "Image 6. Train/Test split diagram"
   ]
  },
  {
   "cell_type": "code",
   "execution_count": 59,
   "metadata": {
    "colab": {},
    "colab_type": "code",
    "id": "XCBV233lCiyC"
   },
   "outputs": [],
   "source": [
    "X_train, X_test, y_train, y_test = train_test_split(X,y, test_size = 0.2, random_state = 1234, stratify = y)"
   ]
  },
  {
   "cell_type": "markdown",
   "metadata": {
    "colab_type": "text",
    "id": "vBEFAUqwqGr5"
   },
   "source": [
    "## C. Cross Validation\n",
    "Cross-validation technique is used in validating prediction results.\n",
    "\n",
    "![cross-validation](https://drive.google.com/uc?id=12lYGhLigD3GTGLK6IVtsTYkma1_s9FKM)\n",
    "\n",
    "Image 7. 5-Fold Validation\n"
   ]
  },
  {
   "cell_type": "code",
   "execution_count": 60,
   "metadata": {
    "colab": {},
    "colab_type": "code",
    "id": "Ru_Ysp-ICaJ8"
   },
   "outputs": [],
   "source": [
    "kfold = KFold(n_splits=5, random_state=1234, shuffle = True)"
   ]
  },
  {
   "cell_type": "markdown",
   "metadata": {
    "colab_type": "text",
    "id": "yKY8bdz0M6tz"
   },
   "source": [
    "### Random Forest Classifier Validation"
   ]
  },
  {
   "cell_type": "code",
   "execution_count": 61,
   "metadata": {
    "colab": {},
    "colab_type": "code",
    "id": "NvZJvs0HCWYs"
   },
   "outputs": [
    {
     "data": {
      "text/plain": [
       "{'fit_time': array([4.4375968 , 4.51612282, 4.49598098, 4.5956924 , 4.63338327]),\n",
       " 'score_time': array([0.3217423 , 0.31987476, 0.32317233, 0.32706022, 0.32193375]),\n",
       " 'test_accuracy': array([0.98208987, 0.98389063, 0.98298977, 0.98442054, 0.98330772]),\n",
       " 'test_precision': array([0.84142114, 0.85123239, 0.83187391, 0.82464029, 0.83333333]),\n",
       " 'test_recall': array([0.86234458, 0.87749546, 0.88044486, 0.90255906, 0.88372093]),\n",
       " 'test_f1_score': array([0.85175439, 0.86416443, 0.85547051, 0.86184211, 0.85778781])}"
      ]
     },
     "execution_count": 61,
     "metadata": {},
     "output_type": "execute_result"
    }
   ],
   "source": [
    "# Skor prediksi Random Forest Classifier\n",
    "\n",
    "results_rf = cross_validate(estimator=rf,X=X_train,\n",
    "                                          y=y_train,\n",
    "                                          cv=kfold,\n",
    "                                          scoring=scoring)\n",
    "results_rf"
   ]
  },
  {
   "cell_type": "code",
   "execution_count": 62,
   "metadata": {
    "colab": {},
    "colab_type": "code",
    "id": "dR-DkADOHpO2"
   },
   "outputs": [
    {
     "name": "stdout",
     "output_type": "stream",
     "text": [
      "Hold out prediction score:  0.8472022955523674\n",
      "Accuracy score:  0.9819415006358626\n"
     ]
    }
   ],
   "source": [
    "# Validasi hold out test\n",
    "\n",
    "rf.fit(X_train, y_train)\n",
    "y_pred = rf.predict(X_test)\n",
    "rf_f1_score = f1_score(y_pred, y_test)\n",
    "rf_acc = accuracy_score(y_pred, y_test)\n",
    "\n",
    "print(\"Hold out prediction score: \", rf_f1_score)\n",
    "print(\"Accuracy score: \", rf_acc)"
   ]
  },
  {
   "cell_type": "markdown",
   "metadata": {
    "colab_type": "text",
    "id": "S2VDDYppNG3R"
   },
   "source": [
    "### Extra Trees Classifier Validation"
   ]
  },
  {
   "cell_type": "code",
   "execution_count": 63,
   "metadata": {
    "colab": {},
    "colab_type": "code",
    "id": "2oEYULbyC57J"
   },
   "outputs": [
    {
     "data": {
      "text/plain": [
       "{'fit_time': array([0.8540616 , 0.89506483, 0.89949369, 0.89091945, 0.88133478]),\n",
       " 'score_time': array([0.1333375 , 0.13399839, 0.13405228, 0.12918496, 0.13046288]),\n",
       " 'test_accuracy': array([0.98272573, 0.9828308 , 0.98298977, 0.9846325 , 0.98367866]),\n",
       " 'test_precision': array([0.88240918, 0.87047619, 0.85822306, 0.85658153, 0.86213409]),\n",
       " 'test_recall': array([0.81971581, 0.82940109, 0.84151993, 0.85826772, 0.84930233]),\n",
       " 'test_f1_score': array([0.84990792, 0.84944238, 0.84978942, 0.8574238 , 0.8556701 ])}"
      ]
     },
     "execution_count": 63,
     "metadata": {},
     "output_type": "execute_result"
    }
   ],
   "source": [
    "# Skor prediksi Extra Trees Classifier\n",
    "\n",
    "results_et = cross_validate(estimator=et,X=X_train,\n",
    "                                          y=y_train,\n",
    "                                          cv=kfold,\n",
    "                                          scoring=scoring)\n",
    "results_et"
   ]
  },
  {
   "cell_type": "code",
   "execution_count": 64,
   "metadata": {
    "colab": {},
    "colab_type": "code",
    "id": "x3m9sZfIM2gP"
   },
   "outputs": [
    {
     "name": "stdout",
     "output_type": "stream",
     "text": [
      "Hold out prediction score:  0.8455526609601788\n",
      "Accuracy score:  0.9824077999152183\n"
     ]
    }
   ],
   "source": [
    "# Validasi hold out test\n",
    "\n",
    "et.fit(X_train, y_train)\n",
    "y_pred = et.predict(X_test)\n",
    "et_f1_score = f1_score(y_pred, y_test)\n",
    "et_acc = accuracy_score(y_pred, y_test)\n",
    "\n",
    "print(\"Hold out prediction score: \", et_f1_score)\n",
    "print(\"Accuracy score: \", et_acc)"
   ]
  },
  {
   "cell_type": "markdown",
   "metadata": {
    "colab_type": "text",
    "id": "7qMrpLXMNSLT"
   },
   "source": [
    "### Bagging Classifier Validation"
   ]
  },
  {
   "cell_type": "code",
   "execution_count": 65,
   "metadata": {
    "colab": {},
    "colab_type": "code",
    "id": "SvANLJGLDIDF"
   },
   "outputs": [
    {
     "data": {
      "text/plain": [
       "{'fit_time': array([27.37386131, 27.43007088, 27.41525006, 27.89654517, 27.38278937]),\n",
       " 'score_time': array([1.56296492, 1.55312181, 1.54492426, 1.56501865, 1.53937483]),\n",
       " 'test_accuracy': array([0.98256677, 0.98224789, 0.98362567, 0.98563934, 0.9840496 ]),\n",
       " 'test_precision': array([0.9617613 , 0.96149218, 0.94976636, 0.94933655, 0.95853081]),\n",
       " 'test_recall': array([0.73712256, 0.72504537, 0.75347544, 0.7746063 , 0.75255814]),\n",
       " 'test_f1_score': array([0.83459025, 0.82669426, 0.84031008, 0.85311653, 0.84314747])}"
      ]
     },
     "execution_count": 65,
     "metadata": {},
     "output_type": "execute_result"
    }
   ],
   "source": [
    "# Skor prediksi Bagging Classifier\n",
    "\n",
    "results_bc = cross_validate(estimator=bc,X=X_train,\n",
    "                                          y=y_train,\n",
    "                                          cv=kfold,\n",
    "                                          scoring=scoring)\n",
    "results_bc"
   ]
  },
  {
   "cell_type": "code",
   "execution_count": 66,
   "metadata": {
    "colab": {},
    "colab_type": "code",
    "id": "WT5knvOTNXLZ"
   },
   "outputs": [
    {
     "name": "stdout",
     "output_type": "stream",
     "text": [
      "Hold out prediction score:  0.8349193214729004\n",
      "Accuracy score:  0.9830860534124629\n"
     ]
    }
   ],
   "source": [
    "# Validasi hold out test\n",
    "\n",
    "bc.fit(X_train, y_train)\n",
    "y_pred = bc.predict(X_test)\n",
    "bc_f1_score = f1_score(y_pred, y_test)\n",
    "bc_acc = accuracy_score(y_pred, y_test)\n",
    "\n",
    "print(\"Hold out prediction score: \", bc_f1_score)\n",
    "print(\"Accuracy score: \", bc_acc)"
   ]
  },
  {
   "cell_type": "markdown",
   "metadata": {
    "colab_type": "text",
    "id": "xHQ6FzjHN0Lv"
   },
   "source": [
    "### AdaBoost Classifier Validation"
   ]
  },
  {
   "cell_type": "code",
   "execution_count": 67,
   "metadata": {
    "colab": {},
    "colab_type": "code",
    "id": "UcsVsEM2DTfM"
   },
   "outputs": [
    {
     "data": {
      "text/plain": [
       "{'fit_time': array([45.75343418, 44.35293436, 45.31847072, 45.40731287, 46.26581836]),\n",
       " 'score_time': array([2.90112972, 2.95705771, 2.94807601, 2.90227842, 2.88288045]),\n",
       " 'test_accuracy': array([0.9819309 , 0.9840496 , 0.9834137 , 0.98410259, 0.98351969]),\n",
       " 'test_precision': array([0.83865401, 0.84917175, 0.83537653, 0.81625442, 0.83391608]),\n",
       " 'test_recall': array([0.86323268, 0.88384755, 0.88415199, 0.90944882, 0.88744186]),\n",
       " 'test_f1_score': array([0.85076586, 0.86616274, 0.85907249, 0.8603352 , 0.85984678])}"
      ]
     },
     "execution_count": 67,
     "metadata": {},
     "output_type": "execute_result"
    }
   ],
   "source": [
    "# Skor prediksi AdaBoost Classifier\n",
    "\n",
    "results_ab = cross_validate(estimator=ab,X=X_train,\n",
    "                                          y=y_train,\n",
    "                                          cv=kfold,\n",
    "                                          scoring=scoring)\n",
    "results_ab"
   ]
  },
  {
   "cell_type": "code",
   "execution_count": 68,
   "metadata": {
    "colab": {},
    "colab_type": "code",
    "id": "EfebVh6HN3EU"
   },
   "outputs": [
    {
     "name": "stdout",
     "output_type": "stream",
     "text": [
      "Hold out prediction score:  0.8491978609625669\n",
      "Accuracy score:  0.982068673166596\n"
     ]
    }
   ],
   "source": [
    "# Validasi hold out test\n",
    "\n",
    "ab.fit(X_train, y_train)\n",
    "y_pred = ab.predict(X_test)\n",
    "ab_f1_score = f1_score(y_pred, y_test)\n",
    "ab_acc = accuracy_score(y_pred, y_test)\n",
    "\n",
    "print(\"Hold out prediction score: \", ab_f1_score)\n",
    "print(\"Accuracy score: \", ab_acc)"
   ]
  },
  {
   "cell_type": "markdown",
   "metadata": {
    "colab_type": "text",
    "id": "CzsxIV1JOCPP"
   },
   "source": [
    "### Voting Classifier Validation"
   ]
  },
  {
   "cell_type": "code",
   "execution_count": 69,
   "metadata": {
    "colab": {},
    "colab_type": "code",
    "id": "R8tWncaLDbAE"
   },
   "outputs": [
    {
     "data": {
      "text/plain": [
       "{'fit_time': array([77.48641086, 76.2998507 , 77.05645609, 77.62315273, 77.25500441]),\n",
       " 'score_time': array([4.86016154, 4.86172056, 5.03963828, 4.87646675, 4.7763896 ]),\n",
       " 'test_accuracy': array([0.98341458, 0.9846855 , 0.98314875, 0.98532139, 0.98415558]),\n",
       " 'test_precision': array([0.87813953, 0.884579  , 0.85660731, 0.85769603, 0.8619403 ]),\n",
       " 'test_recall': array([0.8383659 , 0.84845735, 0.84708063, 0.87204724, 0.85953488]),\n",
       " 'test_f1_score': array([0.85779191, 0.86614173, 0.85181733, 0.8648121 , 0.86073591])}"
      ]
     },
     "execution_count": 69,
     "metadata": {},
     "output_type": "execute_result"
    }
   ],
   "source": [
    "# Skor prediksi Voting Classifier\n",
    "\n",
    "results_vc = cross_validate(estimator=vc,X=X_train,\n",
    "                                          y=y_train,\n",
    "                                          cv=kfold,\n",
    "                                          scoring=scoring)\n",
    "results_vc"
   ]
  },
  {
   "cell_type": "code",
   "execution_count": 70,
   "metadata": {
    "colab": {},
    "colab_type": "code",
    "id": "A1iQD6PIOBsd"
   },
   "outputs": [
    {
     "name": "stdout",
     "output_type": "stream",
     "text": [
      "Hold out prediction score:  0.8482605477424131\n",
      "Accuracy score:  0.9826197541331072\n"
     ]
    }
   ],
   "source": [
    "# Validasi hold out test\n",
    "\n",
    "vc.fit(X_train, y_train)\n",
    "y_pred = vc.predict(X_test)\n",
    "vc_f1_score = f1_score(y_pred, y_test)\n",
    "vc_acc = accuracy_score(y_pred, y_test)\n",
    "\n",
    "print(\"Hold out prediction score: \", vc_f1_score)\n",
    "print(\"Accuracy score: \", vc_acc)"
   ]
  },
  {
   "cell_type": "markdown",
   "metadata": {
    "colab_type": "text",
    "id": "W4uKILwHOPWw"
   },
   "source": [
    "### Test score plot"
   ]
  },
  {
   "cell_type": "code",
   "execution_count": 71,
   "metadata": {
    "colab": {},
    "colab_type": "code",
    "id": "yEe0b7Dpib-B"
   },
   "outputs": [],
   "source": [
    "est = ['Random Forest Classifier', 'Extra Trees Classifier', 'Bagging Classifier', 'AdaBoost Classifier', 'Voting Classifier']\n",
    "acc = [rf_acc, et_acc, bc_acc, ab_acc, vc_acc]\n",
    "f1 = [rf_f1_score, et_f1_score, bc_f1_score, ab_f1_score, vc_f1_score]"
   ]
  },
  {
   "cell_type": "code",
   "execution_count": 72,
   "metadata": {
    "colab": {},
    "colab_type": "code",
    "id": "KSZlBgcnOOMJ"
   },
   "outputs": [
    {
     "data": {
      "image/png": "[encoded data removed]",
      "text/plain": [
       "<Figure size 432x288 with 1 Axes>"
      ]
     },
     "metadata": {
      "needs_background": "light"
     },
     "output_type": "display_data"
    },
    {
     "data": {
      "image/png": "[encoded data removed]",
      "text/plain": [
       "<Figure size 432x288 with 1 Axes>"
      ]
     },
     "metadata": {
      "needs_background": "light"
     },
     "output_type": "display_data"
    }
   ],
   "source": [
    "(pd.Series(f1, index=est).sort_values(ascending= True)\n",
    "   .plot(kind='barh'))\n",
    "plt.xlim(0.83,0.86)\n",
    "plt.title('F1-Score on Test data')\n",
    "plt.show()\n",
    "\n",
    "(pd.Series(acc, index=est).sort_values(ascending= True)\n",
    "   .plot(kind='barh'))\n",
    "plt.xlim(0.97,0.99)\n",
    "plt.title('Accuracy on Test data')\n",
    "plt.show()"
   ]
  },
  {
   "cell_type": "markdown",
   "metadata": {
    "colab_type": "text",
    "id": "P5cTDztVFlUV"
   },
   "source": [
    "## D. Feature Impotance"
   ]
  },
  {
   "cell_type": "code",
   "execution_count": 73,
   "metadata": {
    "colab": {},
    "colab_type": "code",
    "id": "Jf5eWP22FHsa"
   },
   "outputs": [
    {
     "data": {
      "text/plain": [
       "Text(0.5, 1.0, 'Feature importances')"
      ]
     },
     "execution_count": 73,
     "metadata": {},
     "output_type": "execute_result"
    },
    {
     "data": {
      "image/png": "[encoded data removed]",
      "text/plain": [
       "<Figure size 432x288 with 1 Axes>"
      ]
     },
     "metadata": {
      "needs_background": "light"
     },
     "output_type": "display_data"
    }
   ],
   "source": [
    "rf.fit(X,y)\n",
    "\n",
    "(pd.Series(rf.feature_importances_, index=X.columns).sort_values(ascending= True)\n",
    "   .plot(kind='barh'))\n",
    "plt.title('Feature importances')"
   ]
  },
  {
   "cell_type": "markdown",
   "metadata": {
    "colab_type": "text",
    "id": "DFOc52pNyE2E"
   },
   "source": [
    "# 7. Conclusion and Recommendation "
   ]
  },
  {
   "cell_type": "markdown",
   "metadata": {
    "colab_type": "text",
    "id": "5wrmVodkyXPI"
   },
   "source": [
    "## A. Conclusion\n",
    "\n",
    "Preprocessing data is done to understand the data and transform it to be ready for processing by machine learning. Exploratory data analysis is needed to determine the relationship between each feature and the target feature, namely cross selling. From this process, insight was taken that there was a lot of imbalance in the data.\n",
    "\n",
    "Then, based on the theory of \"repeat-buying\" we hypothesize account_id is one of the most influential features on cross selling. This is also supported by the results of exploratory data analysis. Therefore, the encoder target engineering features are applied to the account. In addition, features that are not used can be discarded.\n",
    "\n",
    "The hypothesis of \"repeat-buying\" is proven to have a big effect on predictions, where the account_id_enc feature has a feature of importance far higher than the other features. The implementation of `account_id_enc` can increase the predicted score on the Kaggle private leaderboard from 79,428 to 83,228. The stacking classifier technique applied to get predictions is also proven to be able to produce higher F1-scores and Accuracy cross validation compared to single classifiers, but the differences are not so large.\n",
    "\n",
    "The final result obtained is 0.83288 for the F1-score metric on the Kaggle private leaderboard."
   ]
  },
  {
   "cell_type": "markdown",
   "metadata": {
    "colab_type": "text",
    "id": "8QYrXdfDyb5p"
   },
   "source": [
    "## B. Recommendation \n",
    "\n",
    "From the work that has been done, we realize that our work is far from perfect, there are a few suggestions to make the next work better:\n",
    "\n",
    "- From the company data that has been provided, we can make profiling people with the help of an unsupervised machine learning or Recommendation system, in order to provide hotel recommendations that are appropriate to that person's profile.\n",
    "- If this data has a date for each transaction, we can use machine learning models such as Long Short Term Memory to view purchase transactions.\n",
    "- Creating new features such as from the number of member days to the number of years a member can do, using the number of transactions and making an average number of transaction"
   ]
  },
  {
   "cell_type": "markdown",
   "metadata": {
    "colab_type": "text",
    "id": "XLzWGR0rCnQX"
   },
   "source": [
    "# 8. References "
   ]
  },
  {
   "cell_type": "markdown",
   "metadata": {
    "colab_type": "text",
    "id": "u9S7OXeqsJWm"
   },
   "source": [
    "[1] Wirth, R. & Hipp, J.(2000). CRISP-DM: Towards a standard process model for data mining. *Proceedings of the Fourth International Conference on the Practical Applicationof Knowledge Discovery and Data Mining*; April 11-13, 2000; Manchester, UK p. 29-39.\n",
    "\n",
    "[2] Micci-Barreca, D. (2001). A preprocessing scheme for high-cardinality categorical attributes in classification and prediction problems. *SIGKDD Explorations*, 3, 27–32.\n",
    "\n",
    "[3] Rahul Bhagat, Srevatsan Muralidharan, Alex Lobzhanidze, and Shankar Vishwanath. (2018). Buy It Again: Modeling Repeat Purchase Recommendations. *Proceedings of the 24th ACM SIGKDD International Conference on Knowledge Discovery & Data Mining*. ACM, 62–70\n",
    "\n",
    "[4] Dzeroski, S. & Zenko, B. (2004). Is Combining Classifiers with Stacking better than Selecting the Best One?. *Machine Learning*, 54, 255-273.\n",
    "\n",
    "[5] Ali, K. M. & Pazzani, M. J. (1996). Error reduction through learning multiple descriptions. *Machine Learning*, 4, 173-202.\n",
    "\n",
    "[6] Bauer, E., & Kohavi, R. (1999). An empirical comparison of voting classification algorithms: Bagging, boosting, and variants. *Machine Learning*, 36, 105–142.\n"
   ]
  },
  {
   "cell_type": "code",
   "execution_count": null,
   "metadata": {},
   "outputs": [],
   "source": []
  }
 ],
 "metadata": {
  "colab": {
   "collapsed_sections": [],
   "name": "Final",
   "provenance": [],
   "toc_visible": true
  },
  "kernelspec": {
   "display_name": "Python 3",
   "language": "python",
   "name": "python3"
  },
  "language_info": {
   "codemirror_mode": {
    "name": "ipython",
    "version": 3
   },
   "file_extension": ".py",
   "mimetype": "text/x-python",
   "name": "python",
   "nbconvert_exporter": "python",
   "pygments_lexer": "ipython3",
   "version": "3.7.4"
  }
 },
 "nbformat": 4,
 "nbformat_minor": 1
}
